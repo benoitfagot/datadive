{
 "cells": [
  {
   "cell_type": "code",
   "execution_count": 1,
   "metadata": {},
   "outputs": [],
   "source": [
    "from pyspark import SparkContext\n",
    "from pyspark import SparkConf\n",
    "from pyspark.sql import *\n",
    "import spacy\n",
    "from spacy import displacy\n",
    "import numpy as np\n",
    "import pyspark.sql.functions as f\n",
    "from pyspark.sql.types import StringType\n",
    "import collections\n",
    "from nltk import word_tokenize\n",
    "from nltk.stem import PorterStemmer\n",
    "from sklearn.cluster import KMeans\n",
    "from sklearn.feature_extraction.text import TfidfVectorizer\n",
    "from pprint import pprint"
   ]
  },
  {
   "cell_type": "code",
   "execution_count": 2,
   "metadata": {},
   "outputs": [],
   "source": [
    "conf = SparkConf().setAppName(\"Yelp\").setMaster(\"local[*]\")\n",
    "sc = SparkContext(conf=conf) \n",
    "sqlContext = SQLContext(sc)\n",
    "df = sqlContext.read.json(\"../business.json\")\n",
    "nlp = spacy.load(\"en_core_web_sm\")"
   ]
  },
  {
   "cell_type": "code",
   "execution_count": 3,
   "metadata": {},
   "outputs": [],
   "source": [
    "#df.groupBy('categories').count().orderBy('count',ascending=False).show(truncate=False)"
   ]
  },
  {
   "cell_type": "code",
   "execution_count": 10,
   "metadata": {},
   "outputs": [
    {
     "name": "stderr",
     "output_type": "stream",
     "text": [
      "C:\\Users\\Ashraf\\Anaconda3\\lib\\site-packages\\sklearn\\feature_extraction\\text.py:385: UserWarning: Your stop_words may be inconsistent with your preprocessing. Tokenizing the stop words generated tokens ['d', 'll', 'm', 'n', 's', 't', 've', '‘', '’'] not in stop_words.\n",
      "  'stop_words.' % sorted(inconsistent))\n"
     ]
    },
    {
     "name": "stdout",
     "output_type": "stream",
     "text": [
      "cluster  0 :\n",
      "\t Chocolatiers & Shops, Specialty Food, Ice Cream & Frozen Yogurt, Desserts, Food 0\n",
      "\t Chicken Wings, Fast Food, Restaurants, Chicken Shop 0\n",
      "\t Herbs & Spices, Convenience Stores, Food, Meat Shops, Specialty Food, Grocery, Do-It-Yourself Food 0\n",
      "\t Convenience Stores, Food, Bakeries, Grocery 0\n",
      "\t Coffee & Tea, Bakeries, Sandwiches, Restaurants, Food, Vegan, Desserts 0\n",
      "\t Food, Fast Food, Restaurants, Sandwiches 0\n",
      "\t Museums, Wineries, Food, Arts & Entertainment, Local Flavor 0\n",
      "\t Cheese Shops, Delis, Sandwiches, Restaurants, Food, Specialty Food 0\n",
      "cluster  1 :\n",
      "\t Registration Services, Automotive 1\n",
      "\t Car Wash, Automotive, Auto Detailing, Auto Repair 1\n",
      "\t Bikes, Local Services, Bike Rentals, Sporting Goods, Bike Repair/Maintenance, Hotels & Travel, Tours, Mountain Biking, Active Life, Shopping 1\n",
      "\t Automotive, Windshield Installation & Repair, Auto Glass Services, Body Shops 1\n",
      "\t Electronics Repair, Arts & Entertainment, Shopping, Local Services, Casinos 1\n",
      "\t Tires, Oil Change Stations, Auto Parts & Supplies, Automotive, Smog Check Stations, Auto Repair 1\n",
      "\t Movers, Professional Services, Home Services 1\n",
      "\t Building Supplies, Home Services, Plumbing, Contractors 1\n",
      "\t Home Network Installation, IT Services & Computer Repair, Shopping, Data Recovery, Home Services, Electronics Repair, Computers, Local Services 1\n",
      "\t Parks, Active Life, Dog Parks 1\n",
      "\t Automotive, Auto Repair, Car Stereo Installation, Oil Change Stations, Auto Customization 1\n",
      "\t Local Services, Pest Control, Home Services, Landscaping 1\n",
      "\t Local Services, Music & DVDs, Electronics, Shopping, Books, Mags, Music & Video, Video Game Stores, IT Services & Computer Repair, Mobile Phone Repair 1\n",
      "cluster  2 :\n",
      "\t Cocktail Bars, Italian, American (New), Nightlife, Bars, Pizza, Restaurants 2\n",
      "\t Pizza, Beer, Wine & Spirits, Food, Restaurants, Nightlife, American (Traditional), Chicken Wings, Sports Bars, Bars 2\n",
      "\t Dance Clubs, Nightlife, Comedy Clubs, Bars 2\n",
      "\t Food, Juice Bars & Smoothies, Restaurants, Desserts, Coffee & Tea 2\n",
      "\t Bars, Party Bus Rentals, Adult Entertainment, Nightlife, Local Flavor, Event Planning & Services 2\n",
      "\t Restaurants, Chicken Wings, Pubs, Nightlife, Bars 2\n",
      "cluster  3 :\n",
      "\t Restaurants, Chicken Wings, Sandwiches, Pizza 3\n",
      "\t Vietnamese, Sandwiches, Delis, Restaurants 3\n",
      "\t Seafood, American (Traditional), Restaurants 3\n",
      "\t Pizza, Sandwiches, Restaurants, Italian, Salad 3\n",
      "\t Japanese, Restaurants, Hawaiian, Asian Fusion 3\n",
      "\t Local Flavor, Restaurants, Canadian (New) 3\n",
      "\t Restaurants, Indian, Italian 3\n",
      "\t Restaurants, Caterers, Event Planning & Services, Delis 3\n",
      "cluster  4 :\n",
      "\t Hair Removal, Nail Salons, Beauty & Spas, Eyelash Service, Makeup Artists, Waxing 4\n",
      "\t Event Planning & Services, Tattoo, Accessories, Hair Removal, Cosmetics & Beauty Supply, Beauty & Spas, Threading Services, Henna Artists, Shopping, Fashion, Women's Clothing 4\n",
      "\t Hair Removal, Beauty & Spas, Threading Services, Skin Care, Waxing, Day Spas, Massage 4\n",
      "\t Beauty & Spas, Hair Removal, Health & Medical, Reflexology 4\n",
      "\t Hair Extensions, Beauty & Spas, Hair Salons, Blow Dry/Out Services 4\n",
      "cluster  5 :\n",
      "\t Home Health Care, Medical Transportation, Health & Medical 5\n",
      "\t Shades & Blinds, Home Services, Fences & Gates, Door Sales/Installation 5\n",
      "\t Used, Vintage & Consignment, Fashion, Shopping 5\n",
      "\t Interval Training Gyms, Gyms, Fitness & Instruction, Trainers, Active Life 5\n",
      "\t Venues & Event Spaces, Hotels & Travel, Hotels, Event Planning & Services 5\n",
      "\t Yoga, Trainers, Fitness & Instruction, Active Life, Gyms, Sports Clubs 5\n",
      "\t Laser Eye Surgery/Lasik, Optometrists, Eyewear & Opticians, Health & Medical, Shopping 5\n",
      "\t Office Equipment, Shopping, Arts & Crafts, Jewelry 5\n",
      "\t Shopping, Doctors, Eyewear & Opticians, Optometrists, Health & Medical, Ophthalmologists 5\n",
      "\t Restaurants, Barbeque, Grilling Equipment, Shopping, Outdoor Furniture Stores, Home & Garden, Appliances 5\n"
     ]
    }
   ],
   "source": [
    "test= df.select('categories').distinct().head(50)\n",
    "liste=list()\n",
    "for x in test:\n",
    "    liste.append(*x)\n",
    "\n",
    "nlp = spacy.load(\"en_core_web_sm\")\n",
    "    \n",
    "def word_tokenizer(text):\n",
    "    #tokenizes and stems the text\n",
    "    tokens = word_tokenize(text)\n",
    "    stemmer = PorterStemmer()\n",
    "    tokens = [stemmer.stem(t) for t in tokens if t not in spacy.lang.en.stop_words.STOP_WORDS]\n",
    "    return tokens\n",
    "\n",
    "\n",
    "def cluster_sentences(sentences, nb_of_clusters=5):\n",
    "            tfidf_vectorizer = TfidfVectorizer(tokenizer=word_tokenizer,\n",
    "                                            stop_words=spacy.lang.en.stop_words.STOP_WORDS,\n",
    "                                            max_df=0.9,\n",
    "                                            min_df=0.1,\n",
    "                                            lowercase=True)\n",
    "            #builds a tf-idf matrix for the sentences\n",
    "            tfidf_matrix = tfidf_vectorizer.fit_transform(sentences)\n",
    "            kmeans = KMeans(n_clusters=nb_of_clusters)\n",
    "            kmeans.fit(tfidf_matrix)\n",
    "            clusters = collections.defaultdict(list)\n",
    "            for i, label in enumerate(kmeans.labels_):\n",
    "                    clusters[label].append(i)\n",
    "            return dict(clusters)\n",
    "\n",
    "\n",
    "if __name__ == \"__main__\":\n",
    "    nbclusters = 6\n",
    "    clusters = cluster_sentences(liste, nbclusters)\n",
    "    for cluster in range(nbclusters):\n",
    "        print (\"cluster \",cluster,\":\")\n",
    "        for i,sentence in enumerate(clusters[cluster]):\n",
    "            print (\"\\t\",liste[sentence], cluster)"
   ]
  },
  {
   "cell_type": "code",
   "execution_count": 11,
   "metadata": {},
   "outputs": [
    {
     "name": "stdout",
     "output_type": "stream",
     "text": [
      "{0: [0, 3, 7, 10, 17, 20, 37, 48], 4: [1, 27, 34, 35, 43], 5: [2, 5, 6, 12, 16, 19, 24, 36, 42, 44], 2: [4, 11, 18, 38, 39, 49], 3: [8, 13, 14, 23, 32, 33, 40, 45], 1: [9, 15, 21, 22, 25, 26, 28, 29, 30, 31, 41, 46, 47]}\n"
     ]
    }
   ],
   "source": [
    "print(clusters)"
   ]
  },
  {
   "cell_type": "code",
   "execution_count": null,
   "metadata": {},
   "outputs": [],
   "source": []
  }
 ],
 "metadata": {
  "kernelspec": {
   "display_name": "Python 3",
   "language": "python",
   "name": "python3"
  },
  "language_info": {
   "codemirror_mode": {
    "name": "ipython",
    "version": 3
   },
   "file_extension": ".py",
   "mimetype": "text/x-python",
   "name": "python",
   "nbconvert_exporter": "python",
   "pygments_lexer": "ipython3",
   "version": "3.7.4"
  }
 },
 "nbformat": 4,
 "nbformat_minor": 4
}
