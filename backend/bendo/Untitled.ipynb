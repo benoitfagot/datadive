{
 "cells": [
  {
   "cell_type": "code",
   "execution_count": 4,
   "metadata": {},
   "outputs": [],
   "source": [
    "import numpy as np\n",
    "from math import *\n",
    "\n",
    "def rad2deg(rad):\n",
    "    '''\n",
    "    function to convert radian to degree\n",
    "    '''\n",
    "    degree = rad/2/np.pi * 360\n",
    "    return(degree)\n",
    "\n",
    "def deg2rad(degree):\n",
    "    '''\n",
    "    function to convert degree to radian\n",
    "    '''\n",
    "    rad = degree * 2*np.pi / 360\n",
    "    return(rad)\n",
    "\n",
    "def distToKM(x):\n",
    "    '''\n",
    "    function to convert cartesian distance to real distance in km\n",
    "    '''\n",
    "    R = 6371 # earth radius\n",
    "    gamma = 2*np.arcsin(deg2rad(x/(2*R))) # compute the angle of the isosceles triangle\n",
    "    dist = 2*R*sin(gamma/2) # compute the side of the triangle\n",
    "    return(dist)\n",
    "\n",
    "def kmToDIST(x):\n",
    "    '''\n",
    "    function to convert real distance in km to cartesian distance \n",
    "    '''\n",
    "    R = 6371 # earth radius\n",
    "    gamma = 2*np.arcsin(x/2./R) \n",
    "    \n",
    "    dist = 2*R*rad2deg(sin(gamma / 2.))\n",
    "    return(dist)\n"
   ]
  },
  {
   "cell_type": "code",
   "execution_count": 2,
   "metadata": {},
   "outputs": [
    {
     "data": {
      "text/plain": [
       "286.4788975654116"
      ]
     },
     "execution_count": 2,
     "metadata": {},
     "output_type": "execute_result"
    }
   ],
   "source": [
    "kmToDIST(5)"
   ]
  },
  {
   "cell_type": "code",
   "execution_count": 5,
   "metadata": {},
   "outputs": [
    {
     "data": {
      "text/plain": [
       "4.999999999999999"
      ]
     },
     "execution_count": 5,
     "metadata": {},
     "output_type": "execute_result"
    }
   ],
   "source": [
    "distToKM(286.4788975654116)"
   ]
  }
 ],
 "metadata": {
  "kernelspec": {
   "display_name": "Python 3",
   "language": "python",
   "name": "python3"
  },
  "language_info": {
   "codemirror_mode": {
    "name": "ipython",
    "version": 3
   },
   "file_extension": ".py",
   "mimetype": "text/x-python",
   "name": "python",
   "nbconvert_exporter": "python",
   "pygments_lexer": "ipython3",
   "version": "3.7.7"
  }
 },
 "nbformat": 4,
 "nbformat_minor": 4
}
