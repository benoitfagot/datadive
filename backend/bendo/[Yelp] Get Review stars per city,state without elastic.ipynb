{
 "cells": [
  {
   "cell_type": "markdown",
   "metadata": {},
   "source": [
    "# Libraries"
   ]
  },
  {
   "cell_type": "code",
   "execution_count": 151,
   "metadata": {},
   "outputs": [],
   "source": [
    "import sys\n",
    "pathModulesES = '../sauceforyall/'\n",
    "sys.path.append(pathModulesES)"
   ]
  },
  {
   "cell_type": "markdown",
   "metadata": {},
   "source": [
    "**Elasticsearch Query**"
   ]
  },
  {
   "cell_type": "code",
   "execution_count": 152,
   "metadata": {},
   "outputs": [],
   "source": [
    "from yelpquery import YelpQuery\n",
    "from pandasticsearch import Select\n",
    "ye = YelpQuery()"
   ]
  },
  {
   "cell_type": "markdown",
   "metadata": {},
   "source": [
    "**Machine Learning**"
   ]
  },
  {
   "cell_type": "code",
   "execution_count": 153,
   "metadata": {},
   "outputs": [],
   "source": [
    "from sklearn.model_selection import train_test_split\n",
    "from sklearn.feature_extraction.text import TfidfVectorizer"
   ]
  },
  {
   "cell_type": "markdown",
   "metadata": {},
   "source": [
    "**Visualize**"
   ]
  },
  {
   "cell_type": "code",
   "execution_count": 154,
   "metadata": {},
   "outputs": [],
   "source": [
    "import matplotlib.pyplot as plt\n",
    "import seaborn as sns"
   ]
  },
  {
   "cell_type": "markdown",
   "metadata": {},
   "source": [
    "**Others**"
   ]
  },
  {
   "cell_type": "code",
   "execution_count": 155,
   "metadata": {},
   "outputs": [],
   "source": [
    "import re\n",
    "import string\n",
    "import pandas as pd"
   ]
  },
  {
   "cell_type": "markdown",
   "metadata": {},
   "source": [
    "**Index name**"
   ]
  },
  {
   "cell_type": "code",
   "execution_count": 156,
   "metadata": {},
   "outputs": [],
   "source": [
    "index_business = \"yelp-business*\"\n",
    "index_review = \"yelp-review*\"\n",
    "index_tip = \"yelp-tip*\"\n",
    "index_user = \"yelp-user*\""
   ]
  },
  {
   "cell_type": "markdown",
   "metadata": {},
   "source": [
    "# 1. Data Pre-Processing"
   ]
  },
  {
   "cell_type": "markdown",
   "metadata": {},
   "source": [
    "## 1.1 Load data"
   ]
  },
  {
   "cell_type": "markdown",
   "metadata": {},
   "source": [
    "Retrieve all the reviews from the last 3 years, this helps reduce the volume of data"
   ]
  },
  {
   "cell_type": "markdown",
   "metadata": {},
   "source": [
    "# **CHOOSE UR CITY**"
   ]
  },
  {
   "cell_type": "code",
   "execution_count": 157,
   "metadata": {},
   "outputs": [],
   "source": [
    "city = \"Las Vegas\""
   ]
  },
  {
   "cell_type": "code",
   "execution_count": 158,
   "metadata": {},
   "outputs": [],
   "source": [
    "df_business = pd.read_json(\"../dataset/business.json\", lines=True)\n",
    "df_review = pd.read_json(\"../dataset/cleaned/review_cleaned_2016_2019.json\", lines=True)"
   ]
  },
  {
   "cell_type": "code",
   "execution_count": 159,
   "metadata": {},
   "outputs": [
    {
     "data": {
      "text/html": [
       "<div>\n",
       "<style scoped>\n",
       "    .dataframe tbody tr th:only-of-type {\n",
       "        vertical-align: middle;\n",
       "    }\n",
       "\n",
       "    .dataframe tbody tr th {\n",
       "        vertical-align: top;\n",
       "    }\n",
       "\n",
       "    .dataframe thead th {\n",
       "        text-align: right;\n",
       "    }\n",
       "</style>\n",
       "<table border=\"1\" class=\"dataframe\">\n",
       "  <thead>\n",
       "    <tr style=\"text-align: right;\">\n",
       "      <th></th>\n",
       "      <th>business_id</th>\n",
       "      <th>name</th>\n",
       "      <th>address</th>\n",
       "      <th>city</th>\n",
       "      <th>state</th>\n",
       "      <th>postal_code</th>\n",
       "      <th>latitude</th>\n",
       "      <th>longitude</th>\n",
       "      <th>stars</th>\n",
       "      <th>review_count</th>\n",
       "      <th>is_open</th>\n",
       "      <th>attributes</th>\n",
       "      <th>categories</th>\n",
       "      <th>hours</th>\n",
       "    </tr>\n",
       "  </thead>\n",
       "  <tbody>\n",
       "    <tr>\n",
       "      <th>0</th>\n",
       "      <td>1SWheh84yJXfytovILXOAQ</td>\n",
       "      <td>Arizona Biltmore Golf Club</td>\n",
       "      <td>2818 E Camino Acequia Drive</td>\n",
       "      <td>Phoenix</td>\n",
       "      <td>AZ</td>\n",
       "      <td>85016</td>\n",
       "      <td>33.522143</td>\n",
       "      <td>-112.018481</td>\n",
       "      <td>3.0</td>\n",
       "      <td>5</td>\n",
       "      <td>0</td>\n",
       "      <td>{'GoodForKids': 'False'}</td>\n",
       "      <td>Golf, Active Life</td>\n",
       "      <td>None</td>\n",
       "    </tr>\n",
       "    <tr>\n",
       "      <th>1</th>\n",
       "      <td>QXAEGFB4oINsVuTFxEYKFQ</td>\n",
       "      <td>Emerald Chinese Restaurant</td>\n",
       "      <td>30 Eglinton Avenue W</td>\n",
       "      <td>Mississauga</td>\n",
       "      <td>ON</td>\n",
       "      <td>L5R 3E7</td>\n",
       "      <td>43.605499</td>\n",
       "      <td>-79.652289</td>\n",
       "      <td>2.5</td>\n",
       "      <td>128</td>\n",
       "      <td>1</td>\n",
       "      <td>{'RestaurantsReservations': 'True', 'GoodForMe...</td>\n",
       "      <td>Specialty Food, Restaurants, Dim Sum, Imported...</td>\n",
       "      <td>{'Monday': '9:0-0:0', 'Tuesday': '9:0-0:0', 'W...</td>\n",
       "    </tr>\n",
       "    <tr>\n",
       "      <th>2</th>\n",
       "      <td>gnKjwL_1w79qoiV3IC_xQQ</td>\n",
       "      <td>Musashi Japanese Restaurant</td>\n",
       "      <td>10110 Johnston Rd, Ste 15</td>\n",
       "      <td>Charlotte</td>\n",
       "      <td>NC</td>\n",
       "      <td>28210</td>\n",
       "      <td>35.092564</td>\n",
       "      <td>-80.859132</td>\n",
       "      <td>4.0</td>\n",
       "      <td>170</td>\n",
       "      <td>1</td>\n",
       "      <td>{'GoodForKids': 'True', 'NoiseLevel': 'u'avera...</td>\n",
       "      <td>Sushi Bars, Restaurants, Japanese</td>\n",
       "      <td>{'Monday': '17:30-21:30', 'Wednesday': '17:30-...</td>\n",
       "    </tr>\n",
       "    <tr>\n",
       "      <th>3</th>\n",
       "      <td>xvX2CttrVhyG2z1dFg_0xw</td>\n",
       "      <td>Farmers Insurance - Paul Lorenz</td>\n",
       "      <td>15655 W Roosevelt St, Ste 237</td>\n",
       "      <td>Goodyear</td>\n",
       "      <td>AZ</td>\n",
       "      <td>85338</td>\n",
       "      <td>33.455613</td>\n",
       "      <td>-112.395596</td>\n",
       "      <td>5.0</td>\n",
       "      <td>3</td>\n",
       "      <td>1</td>\n",
       "      <td>None</td>\n",
       "      <td>Insurance, Financial Services</td>\n",
       "      <td>{'Monday': '8:0-17:0', 'Tuesday': '8:0-17:0', ...</td>\n",
       "    </tr>\n",
       "    <tr>\n",
       "      <th>4</th>\n",
       "      <td>HhyxOkGAM07SRYtlQ4wMFQ</td>\n",
       "      <td>Queen City Plumbing</td>\n",
       "      <td>4209 Stuart Andrew Blvd, Ste F</td>\n",
       "      <td>Charlotte</td>\n",
       "      <td>NC</td>\n",
       "      <td>28217</td>\n",
       "      <td>35.190012</td>\n",
       "      <td>-80.887223</td>\n",
       "      <td>4.0</td>\n",
       "      <td>4</td>\n",
       "      <td>1</td>\n",
       "      <td>{'BusinessAcceptsBitcoin': 'False', 'ByAppoint...</td>\n",
       "      <td>Plumbing, Shopping, Local Services, Home Servi...</td>\n",
       "      <td>{'Monday': '7:0-23:0', 'Tuesday': '7:0-23:0', ...</td>\n",
       "    </tr>\n",
       "  </tbody>\n",
       "</table>\n",
       "</div>"
      ],
      "text/plain": [
       "              business_id                             name  \\\n",
       "0  1SWheh84yJXfytovILXOAQ       Arizona Biltmore Golf Club   \n",
       "1  QXAEGFB4oINsVuTFxEYKFQ       Emerald Chinese Restaurant   \n",
       "2  gnKjwL_1w79qoiV3IC_xQQ      Musashi Japanese Restaurant   \n",
       "3  xvX2CttrVhyG2z1dFg_0xw  Farmers Insurance - Paul Lorenz   \n",
       "4  HhyxOkGAM07SRYtlQ4wMFQ              Queen City Plumbing   \n",
       "\n",
       "                          address         city state postal_code   latitude  \\\n",
       "0     2818 E Camino Acequia Drive      Phoenix    AZ       85016  33.522143   \n",
       "1            30 Eglinton Avenue W  Mississauga    ON     L5R 3E7  43.605499   \n",
       "2       10110 Johnston Rd, Ste 15    Charlotte    NC       28210  35.092564   \n",
       "3   15655 W Roosevelt St, Ste 237     Goodyear    AZ       85338  33.455613   \n",
       "4  4209 Stuart Andrew Blvd, Ste F    Charlotte    NC       28217  35.190012   \n",
       "\n",
       "    longitude  stars  review_count  is_open  \\\n",
       "0 -112.018481    3.0             5        0   \n",
       "1  -79.652289    2.5           128        1   \n",
       "2  -80.859132    4.0           170        1   \n",
       "3 -112.395596    5.0             3        1   \n",
       "4  -80.887223    4.0             4        1   \n",
       "\n",
       "                                          attributes  \\\n",
       "0                           {'GoodForKids': 'False'}   \n",
       "1  {'RestaurantsReservations': 'True', 'GoodForMe...   \n",
       "2  {'GoodForKids': 'True', 'NoiseLevel': 'u'avera...   \n",
       "3                                               None   \n",
       "4  {'BusinessAcceptsBitcoin': 'False', 'ByAppoint...   \n",
       "\n",
       "                                          categories  \\\n",
       "0                                  Golf, Active Life   \n",
       "1  Specialty Food, Restaurants, Dim Sum, Imported...   \n",
       "2                  Sushi Bars, Restaurants, Japanese   \n",
       "3                      Insurance, Financial Services   \n",
       "4  Plumbing, Shopping, Local Services, Home Servi...   \n",
       "\n",
       "                                               hours  \n",
       "0                                               None  \n",
       "1  {'Monday': '9:0-0:0', 'Tuesday': '9:0-0:0', 'W...  \n",
       "2  {'Monday': '17:30-21:30', 'Wednesday': '17:30-...  \n",
       "3  {'Monday': '8:0-17:0', 'Tuesday': '8:0-17:0', ...  \n",
       "4  {'Monday': '7:0-23:0', 'Tuesday': '7:0-23:0', ...  "
      ]
     },
     "execution_count": 159,
     "metadata": {},
     "output_type": "execute_result"
    }
   ],
   "source": [
    "df_business.head()"
   ]
  },
  {
   "cell_type": "code",
   "execution_count": 160,
   "metadata": {},
   "outputs": [],
   "source": [
    "df_business =  df_business[[\"business_id\",\"name\",\"state\",\"city\",\"categories\",\"attributes\",\"is_open\"]]\n",
    "df_business = df_business[df_business.city == city]"
   ]
  },
  {
   "cell_type": "code",
   "execution_count": 161,
   "metadata": {},
   "outputs": [
    {
     "data": {
      "text/plain": [
       "{'OutdoorSeating': 'False',\n",
       " 'BusinessAcceptsCreditCards': 'True',\n",
       " 'RestaurantsDelivery': 'False',\n",
       " 'RestaurantsReservations': 'True',\n",
       " 'RestaurantsAttire': \"'casual'\",\n",
       " 'Ambience': \"{'romantic': True, 'intimate': False, 'touristy': False, 'hipster': False, 'divey': False, 'classy': True, 'trendy': False, 'upscale': False, 'casual': False}\",\n",
       " 'HasTV': 'False',\n",
       " 'BYOBCorkage': \"'no'\",\n",
       " 'NoiseLevel': \"u'quiet'\",\n",
       " 'RestaurantsTakeOut': 'True',\n",
       " 'RestaurantsPriceRange2': '2',\n",
       " 'RestaurantsGoodForGroups': 'True',\n",
       " 'WiFi': \"u'no'\",\n",
       " 'Caters': 'True',\n",
       " 'GoodForKids': 'True',\n",
       " 'Alcohol': \"u'full_bar'\",\n",
       " 'BusinessParking': \"{'garage': False, 'street': False, 'validated': False, 'lot': True, 'valet': False}\"}"
      ]
     },
     "execution_count": 161,
     "metadata": {},
     "output_type": "execute_result"
    }
   ],
   "source": [
    "df_business[\"attributes\"].iloc[1]"
   ]
  },
  {
   "cell_type": "code",
   "execution_count": 162,
   "metadata": {},
   "outputs": [
    {
     "data": {
      "text/html": [
       "<div>\n",
       "<style scoped>\n",
       "    .dataframe tbody tr th:only-of-type {\n",
       "        vertical-align: middle;\n",
       "    }\n",
       "\n",
       "    .dataframe tbody tr th {\n",
       "        vertical-align: top;\n",
       "    }\n",
       "\n",
       "    .dataframe thead th {\n",
       "        text-align: right;\n",
       "    }\n",
       "</style>\n",
       "<table border=\"1\" class=\"dataframe\">\n",
       "  <thead>\n",
       "    <tr style=\"text-align: right;\">\n",
       "      <th></th>\n",
       "      <th>business_id</th>\n",
       "      <th>name</th>\n",
       "      <th>state</th>\n",
       "      <th>city</th>\n",
       "      <th>categories</th>\n",
       "      <th>attributes</th>\n",
       "      <th>is_open</th>\n",
       "      <th>user_id</th>\n",
       "      <th>stars</th>\n",
       "      <th>text</th>\n",
       "      <th>date</th>\n",
       "    </tr>\n",
       "  </thead>\n",
       "  <tbody>\n",
       "    <tr>\n",
       "      <th>0</th>\n",
       "      <td>PZ-LZzSlhSe9utkQYU8pFg</td>\n",
       "      <td>Carluccio's Tivoli Gardens</td>\n",
       "      <td>NV</td>\n",
       "      <td>Las Vegas</td>\n",
       "      <td>Restaurants, Italian</td>\n",
       "      <td>OutdoorSeating_False, BusinessAcceptsCreditCar...</td>\n",
       "      <td>0</td>\n",
       "      <td>BDjiEmXljD2ZHT61Iv9rrQ</td>\n",
       "      <td>5</td>\n",
       "      <td>I do not realize this place shutdown. I use to...</td>\n",
       "      <td>2016-08-09 19:02:44</td>\n",
       "    </tr>\n",
       "    <tr>\n",
       "      <th>1</th>\n",
       "      <td>nh_kQ16QAoXWwqZ05MPfBQ</td>\n",
       "      <td>Myron Hensel Photography</td>\n",
       "      <td>NV</td>\n",
       "      <td>Las Vegas</td>\n",
       "      <td>Event Planning &amp; Services, Photographers, Prof...</td>\n",
       "      <td>BusinessAcceptsCreditCards_True</td>\n",
       "      <td>1</td>\n",
       "      <td>_kS0Ww8UTuK1gj2gEIGPiw</td>\n",
       "      <td>5</td>\n",
       "      <td>About a month ago, we have the pleasure of wor...</td>\n",
       "      <td>2016-08-06 16:25:52</td>\n",
       "    </tr>\n",
       "    <tr>\n",
       "      <th>2</th>\n",
       "      <td>nh_kQ16QAoXWwqZ05MPfBQ</td>\n",
       "      <td>Myron Hensel Photography</td>\n",
       "      <td>NV</td>\n",
       "      <td>Las Vegas</td>\n",
       "      <td>Event Planning &amp; Services, Photographers, Prof...</td>\n",
       "      <td>BusinessAcceptsCreditCards_True</td>\n",
       "      <td>1</td>\n",
       "      <td>9CsKkanhOGmTPpQXLeSwNg</td>\n",
       "      <td>5</td>\n",
       "      <td>I really could not have ask for a well photogr...</td>\n",
       "      <td>2016-06-23 18:50:13</td>\n",
       "    </tr>\n",
       "    <tr>\n",
       "      <th>3</th>\n",
       "      <td>nh_kQ16QAoXWwqZ05MPfBQ</td>\n",
       "      <td>Myron Hensel Photography</td>\n",
       "      <td>NV</td>\n",
       "      <td>Las Vegas</td>\n",
       "      <td>Event Planning &amp; Services, Photographers, Prof...</td>\n",
       "      <td>BusinessAcceptsCreditCards_True</td>\n",
       "      <td>1</td>\n",
       "      <td>Dvl_86XAXIquxV_ufN5JTg</td>\n",
       "      <td>5</td>\n",
       "      <td>Myron be our photographer at our wedding last ...</td>\n",
       "      <td>2016-06-05 06:27:37</td>\n",
       "    </tr>\n",
       "    <tr>\n",
       "      <th>4</th>\n",
       "      <td>nh_kQ16QAoXWwqZ05MPfBQ</td>\n",
       "      <td>Myron Hensel Photography</td>\n",
       "      <td>NV</td>\n",
       "      <td>Las Vegas</td>\n",
       "      <td>Event Planning &amp; Services, Photographers, Prof...</td>\n",
       "      <td>BusinessAcceptsCreditCards_True</td>\n",
       "      <td>1</td>\n",
       "      <td>ylFtcmpX7_u88xSmL0SjjA</td>\n",
       "      <td>5</td>\n",
       "      <td>Me and my husband get married a couple week ag...</td>\n",
       "      <td>2017-07-23 12:57:55</td>\n",
       "    </tr>\n",
       "  </tbody>\n",
       "</table>\n",
       "</div>"
      ],
      "text/plain": [
       "              business_id                        name state       city  \\\n",
       "0  PZ-LZzSlhSe9utkQYU8pFg  Carluccio's Tivoli Gardens    NV  Las Vegas   \n",
       "1  nh_kQ16QAoXWwqZ05MPfBQ    Myron Hensel Photography    NV  Las Vegas   \n",
       "2  nh_kQ16QAoXWwqZ05MPfBQ    Myron Hensel Photography    NV  Las Vegas   \n",
       "3  nh_kQ16QAoXWwqZ05MPfBQ    Myron Hensel Photography    NV  Las Vegas   \n",
       "4  nh_kQ16QAoXWwqZ05MPfBQ    Myron Hensel Photography    NV  Las Vegas   \n",
       "\n",
       "                                          categories  \\\n",
       "0                               Restaurants, Italian   \n",
       "1  Event Planning & Services, Photographers, Prof...   \n",
       "2  Event Planning & Services, Photographers, Prof...   \n",
       "3  Event Planning & Services, Photographers, Prof...   \n",
       "4  Event Planning & Services, Photographers, Prof...   \n",
       "\n",
       "                                          attributes  is_open  \\\n",
       "0  OutdoorSeating_False, BusinessAcceptsCreditCar...        0   \n",
       "1                    BusinessAcceptsCreditCards_True        1   \n",
       "2                    BusinessAcceptsCreditCards_True        1   \n",
       "3                    BusinessAcceptsCreditCards_True        1   \n",
       "4                    BusinessAcceptsCreditCards_True        1   \n",
       "\n",
       "                  user_id  stars  \\\n",
       "0  BDjiEmXljD2ZHT61Iv9rrQ      5   \n",
       "1  _kS0Ww8UTuK1gj2gEIGPiw      5   \n",
       "2  9CsKkanhOGmTPpQXLeSwNg      5   \n",
       "3  Dvl_86XAXIquxV_ufN5JTg      5   \n",
       "4  ylFtcmpX7_u88xSmL0SjjA      5   \n",
       "\n",
       "                                                text                date  \n",
       "0  I do not realize this place shutdown. I use to... 2016-08-09 19:02:44  \n",
       "1  About a month ago, we have the pleasure of wor... 2016-08-06 16:25:52  \n",
       "2  I really could not have ask for a well photogr... 2016-06-23 18:50:13  \n",
       "3  Myron be our photographer at our wedding last ... 2016-06-05 06:27:37  \n",
       "4  Me and my husband get married a couple week ag... 2017-07-23 12:57:55  "
      ]
     },
     "execution_count": 162,
     "metadata": {},
     "output_type": "execute_result"
    }
   ],
   "source": [
    "import ast\n",
    "def toList(dictt):\n",
    "    l=[]\n",
    "    if dict != None:\n",
    "        for (idx,val) in dictt.items():\n",
    "            if val == \"True\":\n",
    "                l.append(idx) \n",
    "            elif idx == \"Ambience\":\n",
    "                x = ast.literal_eval(val)\n",
    "                if x != None:\n",
    "                    for (idx2,val2) in x.items():\n",
    "                        if val2 == True:\n",
    "                            l.append(idx+\"_\"+idx2)\n",
    "            elif idx == \"BusinessParking\": \n",
    "                x = ast.literal_eval(val)\n",
    "                if x != None:\n",
    "                    for (idx2,val2) in x.items():\n",
    "                        if val2 == True:\n",
    "                            l.append(idx+\"_\"+idx2)\n",
    "            elif idx == \"GoodForMeal\":  \n",
    "                x = ast.literal_eval(val)\n",
    "                if x != None:\n",
    "                    for (idx2,val2) in x.items():\n",
    "                        if val2 == True:\n",
    "                            l.append(idx+\"_\"+idx2)\n",
    "            elif idx == \"Music\":  \n",
    "                x = ast.literal_eval(val)\n",
    "                if x != None:\n",
    "                    for (idx2,val2) in x.items():\n",
    "                        if val2 == True:\n",
    "                            l.append(idx+\"_\"+idx2)\n",
    "            elif idx == \"BestNights\":  \n",
    "                x = ast.literal_eval(val)\n",
    "                if x != None:\n",
    "                    for (idx2,val2) in x.items():\n",
    "                        if val2 == True:\n",
    "                            l.append(idx+\"_\"+idx2)\n",
    "            elif \"u'\" in val:\n",
    "                l.append(idx+\"_\"+val[2:].replace(\"'\",\"\"))\n",
    "            elif val != \"False\":\n",
    "                l.append(idx+\"_\"+val.replace(\"'\",\"\"))\n",
    "    return l\n",
    "\n",
    "def fusion_attr(key, val):\n",
    "    attr_full = \"\"\n",
    "    key = key.replace(\"'\",\"\")\n",
    "    sub_string = re.search('u\\'(\\w*)\\'', val)\n",
    "    if sub_string:\n",
    "        attr_full = key + \"_\" + sub_string.group(1)\n",
    "    else:\n",
    "        val = val.replace(\"'\",\"\")\n",
    "        attr_full = key + \"_\" + val\n",
    "    return attr_full\n",
    "    \n",
    "def flatten_attr(nested_field):\n",
    "    l=[]\n",
    "    if nested_field:\n",
    "        for (idx,val) in nested_field.items():\n",
    "            f_level = idx\n",
    "            s_level = re.findall(r\"{(.+)}\", val)    \n",
    "            if s_level:\n",
    "                for element in s_level[0].split(\", \"):\n",
    "                    element_splited = element.split(\":\")\n",
    "                    key_element = f_level + \"_\" + element_splited[0].strip()\n",
    "                    val_element = element_splited[1].strip()\n",
    "                    to_add_string = fusion_attr(key_element, val_element)\n",
    "                    l.append(to_add_string)\n",
    "            else:\n",
    "                to_add_string = fusion_attr(f_level, val)\n",
    "                l.append(to_add_string)    \n",
    "    return \", \".join(l)\n",
    "\n",
    "\n",
    "df_business['attributes'] = df_business['attributes'].map(lambda x: flatten_attr(x))\n",
    "\n",
    "df_review = df_review[[\"business_id\",\"user_id\",\"stars\",\"text\",\"date\"]]\n",
    "final_df = pd.merge(df_business,df_review,how=\"inner\", on='business_id') \n",
    "final_df.head()"
   ]
  },
  {
   "cell_type": "code",
   "execution_count": 163,
   "metadata": {},
   "outputs": [
    {
     "data": {
      "text/plain": [
       "0          OutdoorSeating_False, BusinessAcceptsCreditCar...\n",
       "1                            BusinessAcceptsCreditCards_True\n",
       "2                            BusinessAcceptsCreditCards_True\n",
       "3                            BusinessAcceptsCreditCards_True\n",
       "4                            BusinessAcceptsCreditCards_True\n",
       "                                 ...                        \n",
       "1041550    OutdoorSeating_True, WiFi_free, RestaurantsPri...\n",
       "1041551    OutdoorSeating_True, WiFi_free, RestaurantsPri...\n",
       "1041552          BikeParking_False, RestaurantsPriceRange2_1\n",
       "1041553          BikeParking_False, RestaurantsPriceRange2_1\n",
       "1041554          BikeParking_False, RestaurantsPriceRange2_1\n",
       "Name: attributes, Length: 1041555, dtype: object"
      ]
     },
     "execution_count": 163,
     "metadata": {},
     "output_type": "execute_result"
    }
   ],
   "source": [
    "final_df.attributes"
   ]
  },
  {
   "cell_type": "code",
   "execution_count": 164,
   "metadata": {},
   "outputs": [],
   "source": [
    "final_df.to_json(\"../dataset/cleaned/review_stars_\"+city+\"_2016_2019.json\", orient='records', lines=True)"
   ]
  },
  {
   "cell_type": "code",
   "execution_count": null,
   "metadata": {},
   "outputs": [],
   "source": []
  },
  {
   "cell_type": "code",
   "execution_count": null,
   "metadata": {},
   "outputs": [],
   "source": []
  }
 ],
 "metadata": {
  "kernelspec": {
   "display_name": "Python 3",
   "language": "python",
   "name": "python3"
  },
  "language_info": {
   "codemirror_mode": {
    "name": "ipython",
    "version": 3
   },
   "file_extension": ".py",
   "mimetype": "text/x-python",
   "name": "python",
   "nbconvert_exporter": "python",
   "pygments_lexer": "ipython3",
   "version": "3.7.7"
  }
 },
 "nbformat": 4,
 "nbformat_minor": 4
}
