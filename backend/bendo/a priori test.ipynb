{
 "cells": [
  {
   "cell_type": "code",
   "execution_count": 1,
   "metadata": {},
   "outputs": [],
   "source": [
    "import sys\n",
    "import pandas as pd\n",
    "import re\n",
    "pathModulesES = '../sauceforyall/'\n",
    "sys.path.append(pathModulesES)\n",
    "from yelpquery import YelpQuery\n",
    "from pandasticsearch import Select\n",
    "ye = YelpQuery()"
   ]
  },
  {
   "cell_type": "code",
   "execution_count": 45,
   "metadata": {},
   "outputs": [],
   "source": [
    "\n",
    "df = pd.read_json(\"../dataset/city_reviews/review_stars_Calgary_2016_2019.json\", lines=True)\n",
    "Count = df.groupby(by=\"business_id\",as_index=False)['stars'].count()\n",
    "Count.rename(columns={'stars': 'business_count'}, inplace=True)\n",
    "m = Count['business_count'].quantile(0.99)\n",
    "Count2 = df.groupby(by=\"user_id\",as_index=False)['stars'].count()\n",
    "Count2.rename(columns={'stars': 'user_count'}, inplace=True)\n",
    "n = Count2['user_count'].quantile(0.99)\n",
    "df = pd.merge(df,Count2,on='user_id')\n",
    "df = pd.merge(df,Count,on='business_id')\n",
    "indexNames = df[ df['business_count'] < m].index\n",
    "df.drop(indexNames , inplace=True)\n",
    "indexNames = df[ df['user_count'] < n].index\n",
    "df.drop(indexNames , inplace=True)\n",
    "#df = df[[\"business_id\",\"user_id\",\"name\",\"stars\",\"state\",\"city\",\"categories\",\"attributes\",\"is_open\",\"text\",\"review_id\",\"date\"]]\n",
    "## filter restaurants only\n",
    "##df = df[df.categories.map(lambda x: 'Restaurants' in x)]\n",
    "##return df.sort_values(by='stars', ascending=False)\n"
   ]
  },
  {
   "cell_type": "code",
   "execution_count": 39,
   "metadata": {},
   "outputs": [
    {
     "data": {
      "text/html": [
       "<div>\n",
       "<style scoped>\n",
       "    .dataframe tbody tr th:only-of-type {\n",
       "        vertical-align: middle;\n",
       "    }\n",
       "\n",
       "    .dataframe tbody tr th {\n",
       "        vertical-align: top;\n",
       "    }\n",
       "\n",
       "    .dataframe thead th {\n",
       "        text-align: right;\n",
       "    }\n",
       "</style>\n",
       "<table border=\"1\" class=\"dataframe\">\n",
       "  <thead>\n",
       "    <tr style=\"text-align: right;\">\n",
       "      <th></th>\n",
       "      <th>business_id</th>\n",
       "      <th>name</th>\n",
       "      <th>state</th>\n",
       "      <th>city</th>\n",
       "      <th>categories</th>\n",
       "      <th>attributes</th>\n",
       "      <th>is_open</th>\n",
       "      <th>user_id</th>\n",
       "      <th>stars</th>\n",
       "      <th>text</th>\n",
       "      <th>date</th>\n",
       "      <th>user_count</th>\n",
       "      <th>business_count</th>\n",
       "    </tr>\n",
       "  </thead>\n",
       "  <tbody>\n",
       "    <tr>\n",
       "      <th>87</th>\n",
       "      <td>llad5ng0sxHkWrK1ZlswxA</td>\n",
       "      <td>The Himalayan</td>\n",
       "      <td>AB</td>\n",
       "      <td>Calgary</td>\n",
       "      <td>Restaurants, Himalayan/Nepalese</td>\n",
       "      <td>RestaurantsTableService_True, WiFi_free, Resta...</td>\n",
       "      <td>1</td>\n",
       "      <td>sEYhtPp7-Dm1b241JigCkA</td>\n",
       "      <td>4</td>\n",
       "      <td>Very quaint clean nice staff nice owner good f...</td>\n",
       "      <td>2017-06-08 23:16:34</td>\n",
       "      <td>44</td>\n",
       "      <td>99</td>\n",
       "    </tr>\n",
       "    <tr>\n",
       "      <th>90</th>\n",
       "      <td>llad5ng0sxHkWrK1ZlswxA</td>\n",
       "      <td>The Himalayan</td>\n",
       "      <td>AB</td>\n",
       "      <td>Calgary</td>\n",
       "      <td>Restaurants, Himalayan/Nepalese</td>\n",
       "      <td>RestaurantsTableService_True, WiFi_free, Resta...</td>\n",
       "      <td>1</td>\n",
       "      <td>ZEKYaxvlE1ot3hzuea88YA</td>\n",
       "      <td>5</td>\n",
       "      <td>The Himalayan be down the street from u. We ea...</td>\n",
       "      <td>2018-11-04 20:18:18</td>\n",
       "      <td>24</td>\n",
       "      <td>99</td>\n",
       "    </tr>\n",
       "    <tr>\n",
       "      <th>91</th>\n",
       "      <td>llad5ng0sxHkWrK1ZlswxA</td>\n",
       "      <td>The Himalayan</td>\n",
       "      <td>AB</td>\n",
       "      <td>Calgary</td>\n",
       "      <td>Restaurants, Himalayan/Nepalese</td>\n",
       "      <td>RestaurantsTableService_True, WiFi_free, Resta...</td>\n",
       "      <td>1</td>\n",
       "      <td>VbB0_jzI_DrnPY4DuROVkQ</td>\n",
       "      <td>4</td>\n",
       "      <td>Just recently renovate, this'new' version have...</td>\n",
       "      <td>2018-04-25 01:21:48</td>\n",
       "      <td>163</td>\n",
       "      <td>99</td>\n",
       "    </tr>\n",
       "    <tr>\n",
       "      <th>92</th>\n",
       "      <td>llad5ng0sxHkWrK1ZlswxA</td>\n",
       "      <td>The Himalayan</td>\n",
       "      <td>AB</td>\n",
       "      <td>Calgary</td>\n",
       "      <td>Restaurants, Himalayan/Nepalese</td>\n",
       "      <td>RestaurantsTableService_True, WiFi_free, Resta...</td>\n",
       "      <td>1</td>\n",
       "      <td>qDIGqITXdxFngeYmfBShzA</td>\n",
       "      <td>5</td>\n",
       "      <td>Great food, amaze service and reasonably price...</td>\n",
       "      <td>2016-12-15 06:04:26</td>\n",
       "      <td>31</td>\n",
       "      <td>99</td>\n",
       "    </tr>\n",
       "    <tr>\n",
       "      <th>93</th>\n",
       "      <td>llad5ng0sxHkWrK1ZlswxA</td>\n",
       "      <td>The Himalayan</td>\n",
       "      <td>AB</td>\n",
       "      <td>Calgary</td>\n",
       "      <td>Restaurants, Himalayan/Nepalese</td>\n",
       "      <td>RestaurantsTableService_True, WiFi_free, Resta...</td>\n",
       "      <td>1</td>\n",
       "      <td>gpYWWN7Dyfu9ois7S_yfoA</td>\n",
       "      <td>3</td>\n",
       "      <td>The first attempt we be sent on our way- reser...</td>\n",
       "      <td>2017-04-14 04:17:08</td>\n",
       "      <td>22</td>\n",
       "      <td>99</td>\n",
       "    </tr>\n",
       "  </tbody>\n",
       "</table>\n",
       "</div>"
      ],
      "text/plain": [
       "               business_id           name state     city  \\\n",
       "87  llad5ng0sxHkWrK1ZlswxA  The Himalayan    AB  Calgary   \n",
       "90  llad5ng0sxHkWrK1ZlswxA  The Himalayan    AB  Calgary   \n",
       "91  llad5ng0sxHkWrK1ZlswxA  The Himalayan    AB  Calgary   \n",
       "92  llad5ng0sxHkWrK1ZlswxA  The Himalayan    AB  Calgary   \n",
       "93  llad5ng0sxHkWrK1ZlswxA  The Himalayan    AB  Calgary   \n",
       "\n",
       "                         categories  \\\n",
       "87  Restaurants, Himalayan/Nepalese   \n",
       "90  Restaurants, Himalayan/Nepalese   \n",
       "91  Restaurants, Himalayan/Nepalese   \n",
       "92  Restaurants, Himalayan/Nepalese   \n",
       "93  Restaurants, Himalayan/Nepalese   \n",
       "\n",
       "                                           attributes  is_open  \\\n",
       "87  RestaurantsTableService_True, WiFi_free, Resta...        1   \n",
       "90  RestaurantsTableService_True, WiFi_free, Resta...        1   \n",
       "91  RestaurantsTableService_True, WiFi_free, Resta...        1   \n",
       "92  RestaurantsTableService_True, WiFi_free, Resta...        1   \n",
       "93  RestaurantsTableService_True, WiFi_free, Resta...        1   \n",
       "\n",
       "                   user_id  stars  \\\n",
       "87  sEYhtPp7-Dm1b241JigCkA      4   \n",
       "90  ZEKYaxvlE1ot3hzuea88YA      5   \n",
       "91  VbB0_jzI_DrnPY4DuROVkQ      4   \n",
       "92  qDIGqITXdxFngeYmfBShzA      5   \n",
       "93  gpYWWN7Dyfu9ois7S_yfoA      3   \n",
       "\n",
       "                                                 text                date  \\\n",
       "87  Very quaint clean nice staff nice owner good f... 2017-06-08 23:16:34   \n",
       "90  The Himalayan be down the street from u. We ea... 2018-11-04 20:18:18   \n",
       "91  Just recently renovate, this'new' version have... 2018-04-25 01:21:48   \n",
       "92  Great food, amaze service and reasonably price... 2016-12-15 06:04:26   \n",
       "93  The first attempt we be sent on our way- reser... 2017-04-14 04:17:08   \n",
       "\n",
       "    user_count  business_count  \n",
       "87          44              99  \n",
       "90          24              99  \n",
       "91         163              99  \n",
       "92          31              99  \n",
       "93          22              99  "
      ]
     },
     "execution_count": 39,
     "metadata": {},
     "output_type": "execute_result"
    }
   ],
   "source": [
    "df.head()"
   ]
  },
  {
   "cell_type": "code",
   "execution_count": 46,
   "metadata": {},
   "outputs": [],
   "source": [
    "def concat(data):\n",
    "    l = []\n",
    "    for n in data:\n",
    "        l.append(n)\n",
    "    return l\n",
    "    \n",
    "\n",
    "test = df.groupby(by=\"user_id\",as_index=False)['name'].apply(concat)"
   ]
  },
  {
   "cell_type": "code",
   "execution_count": 47,
   "metadata": {},
   "outputs": [],
   "source": [
    "test = list(test)"
   ]
  },
  {
   "cell_type": "code",
   "execution_count": 50,
   "metadata": {},
   "outputs": [
    {
     "name": "stdout",
     "output_type": "stream",
     "text": [
      "[RelationRecord(items=frozenset({'Alforno Bakery & Cafe'}), support=0.20394736842105263, ordered_statistics=[OrderedStatistic(items_base=frozenset(), items_add=frozenset({'Alforno Bakery & Cafe'}), confidence=0.20394736842105263, lift=1.0)]), RelationRecord(items=frozenset({'Anju'}), support=0.1118421052631579, ordered_statistics=[OrderedStatistic(items_base=frozenset(), items_add=frozenset({'Anju'}), confidence=0.1118421052631579, lift=1.0)]), RelationRecord(items=frozenset({\"Blaze Fast-Fire'd Pizza\"}), support=0.13157894736842105, ordered_statistics=[OrderedStatistic(items_base=frozenset(), items_add=frozenset({\"Blaze Fast-Fire'd Pizza\"}), confidence=0.13157894736842105, lift=1.0)]), RelationRecord(items=frozenset({'Blue Star Diner'}), support=0.10526315789473684, ordered_statistics=[OrderedStatistic(items_base=frozenset(), items_add=frozenset({'Blue Star Diner'}), confidence=0.10526315789473684, lift=1.0)]), RelationRecord(items=frozenset({'Briggs Kitchen + Bar'}), support=0.11842105263157894, ordered_statistics=[OrderedStatistic(items_base=frozenset(), items_add=frozenset({'Briggs Kitchen + Bar'}), confidence=0.11842105263157894, lift=1.0)]), RelationRecord(items=frozenset({'Cactus Club Cafe'}), support=0.17763157894736842, ordered_statistics=[OrderedStatistic(items_base=frozenset(), items_add=frozenset({'Cactus Club Cafe'}), confidence=0.17763157894736842, lift=1.0)]), RelationRecord(items=frozenset({'Charcut Roast House'}), support=0.11842105263157894, ordered_statistics=[OrderedStatistic(items_base=frozenset(), items_add=frozenset({'Charcut Roast House'}), confidence=0.11842105263157894, lift=1.0)]), RelationRecord(items=frozenset({'Cibo'}), support=0.11842105263157894, ordered_statistics=[OrderedStatistic(items_base=frozenset(), items_add=frozenset({'Cibo'}), confidence=0.11842105263157894, lift=1.0)]), RelationRecord(items=frozenset({'Cluck N Cleaver'}), support=0.17763157894736842, ordered_statistics=[OrderedStatistic(items_base=frozenset(), items_add=frozenset({'Cluck N Cleaver'}), confidence=0.17763157894736842, lift=1.0)]), RelationRecord(items=frozenset({'Dairy Lane Café'}), support=0.10526315789473684, ordered_statistics=[OrderedStatistic(items_base=frozenset(), items_add=frozenset({'Dairy Lane Café'}), confidence=0.10526315789473684, lift=1.0)]), RelationRecord(items=frozenset({'Gyu-Kaku Japanese BBQ'}), support=0.13815789473684212, ordered_statistics=[OrderedStatistic(items_base=frozenset(), items_add=frozenset({'Gyu-Kaku Japanese BBQ'}), confidence=0.13815789473684212, lift=1.0)]), RelationRecord(items=frozenset({'Hayden Block Smoke & Whiskey'}), support=0.17105263157894737, ordered_statistics=[OrderedStatistic(items_base=frozenset(), items_add=frozenset({'Hayden Block Smoke & Whiskey'}), confidence=0.17105263157894737, lift=1.0)]), RelationRecord(items=frozenset({'JINYA Ramen Bar'}), support=0.20394736842105263, ordered_statistics=[OrderedStatistic(items_base=frozenset(), items_add=frozenset({'JINYA Ramen Bar'}), confidence=0.20394736842105263, lift=1.0)]), RelationRecord(items=frozenset({'Made By Marcus'}), support=0.21052631578947367, ordered_statistics=[OrderedStatistic(items_base=frozenset(), items_add=frozenset({'Made By Marcus'}), confidence=0.21052631578947367, lift=1.0)]), RelationRecord(items=frozenset({'Model Milk'}), support=0.11842105263157894, ordered_statistics=[OrderedStatistic(items_base=frozenset(), items_add=frozenset({'Model Milk'}), confidence=0.11842105263157894, lift=1.0)]), RelationRecord(items=frozenset({'Monki Bistro'}), support=0.13815789473684212, ordered_statistics=[OrderedStatistic(items_base=frozenset(), items_add=frozenset({'Monki Bistro'}), confidence=0.13815789473684212, lift=1.0)]), RelationRecord(items=frozenset({'Native Tongues Taqueria'}), support=0.24342105263157895, ordered_statistics=[OrderedStatistic(items_base=frozenset(), items_add=frozenset({'Native Tongues Taqueria'}), confidence=0.24342105263157895, lift=1.0)]), RelationRecord(items=frozenset({'OEB Breakfast Co.'}), support=0.29605263157894735, ordered_statistics=[OrderedStatistic(items_base=frozenset(), items_add=frozenset({'OEB Breakfast Co.'}), confidence=0.29605263157894735, lift=1.0)]), RelationRecord(items=frozenset({'Paper St'}), support=0.13157894736842105, ordered_statistics=[OrderedStatistic(items_base=frozenset(), items_add=frozenset({'Paper St'}), confidence=0.13157894736842105, lift=1.0)]), RelationRecord(items=frozenset({'Po-ke'}), support=0.18421052631578946, ordered_statistics=[OrderedStatistic(items_base=frozenset(), items_add=frozenset({'Po-ke'}), confidence=0.18421052631578946, lift=1.0)]), RelationRecord(items=frozenset({'Regrub Burger Bar'}), support=0.125, ordered_statistics=[OrderedStatistic(items_base=frozenset(), items_add=frozenset({'Regrub Burger Bar'}), confidence=0.125, lift=1.0)]), RelationRecord(items=frozenset({'Shokunin'}), support=0.1118421052631579, ordered_statistics=[OrderedStatistic(items_base=frozenset(), items_add=frozenset({'Shokunin'}), confidence=0.1118421052631579, lift=1.0)]), RelationRecord(items=frozenset({'Ten Foot Henry'}), support=0.21710526315789475, ordered_statistics=[OrderedStatistic(items_base=frozenset(), items_add=frozenset({'Ten Foot Henry'}), confidence=0.21710526315789475, lift=1.0)]), RelationRecord(items=frozenset({\"The Bro'kin Yolk\"}), support=0.15789473684210525, ordered_statistics=[OrderedStatistic(items_base=frozenset(), items_add=frozenset({\"The Bro'kin Yolk\"}), confidence=0.15789473684210525, lift=1.0)]), RelationRecord(items=frozenset({'The Coup'}), support=0.10526315789473684, ordered_statistics=[OrderedStatistic(items_base=frozenset(), items_add=frozenset({'The Coup'}), confidence=0.10526315789473684, lift=1.0)]), RelationRecord(items=frozenset({'The Himalayan'}), support=0.11842105263157894, ordered_statistics=[OrderedStatistic(items_base=frozenset(), items_add=frozenset({'The Himalayan'}), confidence=0.11842105263157894, lift=1.0)]), RelationRecord(items=frozenset({'The Nash'}), support=0.10526315789473684, ordered_statistics=[OrderedStatistic(items_base=frozenset(), items_add=frozenset({'The Nash'}), confidence=0.10526315789473684, lift=1.0)]), RelationRecord(items=frozenset({'Trolley 5'}), support=0.13815789473684212, ordered_statistics=[OrderedStatistic(items_base=frozenset(), items_add=frozenset({'Trolley 5'}), confidence=0.13815789473684212, lift=1.0)]), RelationRecord(items=frozenset({'UNA Pizza + Wine'}), support=0.125, ordered_statistics=[OrderedStatistic(items_base=frozenset(), items_add=frozenset({'UNA Pizza + Wine'}), confidence=0.125, lift=1.0)]), RelationRecord(items=frozenset({'Village Ice Cream'}), support=0.18421052631578946, ordered_statistics=[OrderedStatistic(items_base=frozenset(), items_add=frozenset({'Village Ice Cream'}), confidence=0.18421052631578946, lift=1.0)]), RelationRecord(items=frozenset({'JINYA Ramen Bar', 'Made By Marcus'}), support=0.10526315789473684, ordered_statistics=[OrderedStatistic(items_base=frozenset(), items_add=frozenset({'JINYA Ramen Bar', 'Made By Marcus'}), confidence=0.10526315789473684, lift=1.0), OrderedStatistic(items_base=frozenset({'JINYA Ramen Bar'}), items_add=frozenset({'Made By Marcus'}), confidence=0.5161290322580645, lift=2.4516129032258065), OrderedStatistic(items_base=frozenset({'Made By Marcus'}), items_add=frozenset({'JINYA Ramen Bar'}), confidence=0.5, lift=2.4516129032258065)]), RelationRecord(items=frozenset({'OEB Breakfast Co.', 'Native Tongues Taqueria'}), support=0.1118421052631579, ordered_statistics=[OrderedStatistic(items_base=frozenset(), items_add=frozenset({'OEB Breakfast Co.', 'Native Tongues Taqueria'}), confidence=0.1118421052631579, lift=1.0), OrderedStatistic(items_base=frozenset({'Native Tongues Taqueria'}), items_add=frozenset({'OEB Breakfast Co.'}), confidence=0.45945945945945943, lift=1.551951951951952), OrderedStatistic(items_base=frozenset({'OEB Breakfast Co.'}), items_add=frozenset({'Native Tongues Taqueria'}), confidence=0.3777777777777778, lift=1.551951951951952)])]\n"
     ]
    }
   ],
   "source": [
    "results = list(apriori(test,min_length=80))\n",
    "print(results)"
   ]
  },
  {
   "cell_type": "code",
   "execution_count": 24,
   "metadata": {},
   "outputs": [
    {
     "name": "stdout",
     "output_type": "stream",
     "text": [
      "[]\n"
     ]
    }
   ],
   "source": [
    "from apyori import apriori\n",
    "\n",
    "final_rule = apriori(test,min_support=0.25,min_confidence=0.7,min_lift=1.2,min_length=2)\n",
    "final_results = list(final_rule)\n",
    "print(final_results)\n",
    "#def popularity_based_recommend(userID,city):\n",
    "    "
   ]
  }
 ],
 "metadata": {
  "kernelspec": {
   "display_name": "Python 3",
   "language": "python",
   "name": "python3"
  },
  "language_info": {
   "codemirror_mode": {
    "name": "ipython",
    "version": 3
   },
   "file_extension": ".py",
   "mimetype": "text/x-python",
   "name": "python",
   "nbconvert_exporter": "python",
   "pygments_lexer": "ipython3",
   "version": "3.7.7"
  }
 },
 "nbformat": 4,
 "nbformat_minor": 4
}
