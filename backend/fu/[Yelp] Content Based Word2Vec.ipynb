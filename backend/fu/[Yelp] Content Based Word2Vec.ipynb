{
 "cells": [
  {
   "cell_type": "markdown",
   "metadata": {},
   "source": [
    "# Libraries"
   ]
  },
  {
   "cell_type": "markdown",
   "metadata": {},
   "source": [
    "**Machine Learning**"
   ]
  },
  {
   "cell_type": "code",
   "execution_count": 1,
   "metadata": {},
   "outputs": [],
   "source": [
    "import pandas as pd\n",
    "import numpy as np\n",
    "import nltk\n",
    "import pickle\n",
    "from sklearn.metrics.pairwise import cosine_similarity"
   ]
  },
  {
   "cell_type": "markdown",
   "metadata": {},
   "source": [
    "**Word2Vec**"
   ]
  },
  {
   "cell_type": "code",
   "execution_count": 2,
   "metadata": {},
   "outputs": [
    {
     "name": "stderr",
     "output_type": "stream",
     "text": [
      "[nltk_data] Downloading package stopwords to\n",
      "[nltk_data]     /home/hongphuc95/nltk_data...\n",
      "[nltk_data]   Package stopwords is already up-to-date!\n"
     ]
    },
    {
     "data": {
      "text/plain": [
       "True"
      ]
     },
     "execution_count": 2,
     "metadata": {},
     "output_type": "execute_result"
    }
   ],
   "source": [
    "from nltk.tokenize import word_tokenize\n",
    "import gensim \n",
    "from gensim.models import Word2Vec\n",
    "from nltk.corpus import stopwords\n",
    "nltk.download('stopwords')"
   ]
  },
  {
   "cell_type": "markdown",
   "metadata": {},
   "source": [
    "**Visualization**"
   ]
  },
  {
   "cell_type": "code",
   "execution_count": 3,
   "metadata": {},
   "outputs": [],
   "source": [
    "import folium\n",
    "import html"
   ]
  },
  {
   "cell_type": "code",
   "execution_count": 4,
   "metadata": {},
   "outputs": [],
   "source": [
    "data_path = \"/home/hongphuc95/notebookteam/dataset/\""
   ]
  },
  {
   "cell_type": "code",
   "execution_count": 5,
   "metadata": {},
   "outputs": [],
   "source": [
    "api_path = \"/home/hongphuc95/notebookteam/api/\""
   ]
  },
  {
   "cell_type": "markdown",
   "metadata": {},
   "source": [
    "# 1. Load "
   ]
  },
  {
   "cell_type": "markdown",
   "metadata": {},
   "source": [
    "**Data**"
   ]
  },
  {
   "cell_type": "code",
   "execution_count": 6,
   "metadata": {},
   "outputs": [],
   "source": [
    "business_df = pd.read_json(data_path + \"business.json\", lines=True)"
   ]
  },
  {
   "cell_type": "code",
   "execution_count": 7,
   "metadata": {},
   "outputs": [],
   "source": [
    "review_df = pd.read_json(data_path + \"cleaned/review_cleaned_2016_2019_Vegas.json\", lines=True)"
   ]
  },
  {
   "cell_type": "code",
   "execution_count": 8,
   "metadata": {},
   "outputs": [],
   "source": [
    "review_by_business = review_df.groupby('business_id')['text'].agg(lambda col: ' '.join(col)).reset_index()"
   ]
  },
  {
   "cell_type": "code",
   "execution_count": 9,
   "metadata": {},
   "outputs": [
    {
     "data": {
      "text/plain": [
       "(25280, 2)"
      ]
     },
     "execution_count": 9,
     "metadata": {},
     "output_type": "execute_result"
    }
   ],
   "source": [
    "review_by_business.shape"
   ]
  },
  {
   "cell_type": "code",
   "execution_count": 10,
   "metadata": {},
   "outputs": [],
   "source": [
    "all_stopwords = stopwords.words('english')\n",
    "def clean_text(text):\n",
    "    text_tokens = word_tokenize(text.lower())\n",
    "    tokens_without_sw = [word for word in text_tokens if not word in all_stopwords]\n",
    "    return tokens_without_sw"
   ]
  },
  {
   "cell_type": "code",
   "execution_count": 11,
   "metadata": {},
   "outputs": [],
   "source": [
    "review_by_business[\"text\"] = review_by_business[\"text\"].apply(lambda x: clean_text(x))"
   ]
  },
  {
   "cell_type": "markdown",
   "metadata": {},
   "source": [
    "**Model**"
   ]
  },
  {
   "cell_type": "code",
   "execution_count": 6,
   "metadata": {},
   "outputs": [],
   "source": [
    "with open(\"review_tokenized.pickle\", \"rb\") as f:\n",
    "    review_by_business = pickle.load(f)"
   ]
  },
  {
   "cell_type": "code",
   "execution_count": 7,
   "metadata": {},
   "outputs": [],
   "source": [
    "model = Word2Vec.load(\"review_full.model\")"
   ]
  },
  {
   "cell_type": "code",
   "execution_count": 8,
   "metadata": {},
   "outputs": [
    {
     "data": {
      "text/html": [
       "<div>\n",
       "<style scoped>\n",
       "    .dataframe tbody tr th:only-of-type {\n",
       "        vertical-align: middle;\n",
       "    }\n",
       "\n",
       "    .dataframe tbody tr th {\n",
       "        vertical-align: top;\n",
       "    }\n",
       "\n",
       "    .dataframe thead th {\n",
       "        text-align: right;\n",
       "    }\n",
       "</style>\n",
       "<table border=\"1\" class=\"dataframe\">\n",
       "  <thead>\n",
       "    <tr style=\"text-align: right;\">\n",
       "      <th></th>\n",
       "      <th>business_id</th>\n",
       "      <th>text</th>\n",
       "    </tr>\n",
       "  </thead>\n",
       "  <tbody>\n",
       "    <tr>\n",
       "      <th>0</th>\n",
       "      <td>--1UhMGODdWsrMastO9DZw</td>\n",
       "      <td>[last, review, mention, get, charge, extra, ,,...</td>\n",
       "    </tr>\n",
       "    <tr>\n",
       "      <th>1</th>\n",
       "      <td>--6MefnULPED_I942VcFNA</td>\n",
       "      <td>[decent, food, decent, price, ., standard, chi...</td>\n",
       "    </tr>\n",
       "    <tr>\n",
       "      <th>2</th>\n",
       "      <td>--7zmmkVg-IMGaXbuVd0SQ</td>\n",
       "      <td>[recent, tour, lake, norman, area, brewery, ,,...</td>\n",
       "    </tr>\n",
       "    <tr>\n",
       "      <th>3</th>\n",
       "      <td>--8LPVSo5i0Oo61X01sV9A</td>\n",
       "      <td>[dr., purcell, good, thorough, ., office, staf...</td>\n",
       "    </tr>\n",
       "    <tr>\n",
       "      <th>4</th>\n",
       "      <td>--9QQLMTbFzLJ_oT-ON3Xw</td>\n",
       "      <td>[ever, believe, check, time, ., always, 20, mi...</td>\n",
       "    </tr>\n",
       "  </tbody>\n",
       "</table>\n",
       "</div>"
      ],
      "text/plain": [
       "              business_id                                               text\n",
       "0  --1UhMGODdWsrMastO9DZw  [last, review, mention, get, charge, extra, ,,...\n",
       "1  --6MefnULPED_I942VcFNA  [decent, food, decent, price, ., standard, chi...\n",
       "2  --7zmmkVg-IMGaXbuVd0SQ  [recent, tour, lake, norman, area, brewery, ,,...\n",
       "3  --8LPVSo5i0Oo61X01sV9A  [dr., purcell, good, thorough, ., office, staf...\n",
       "4  --9QQLMTbFzLJ_oT-ON3Xw  [ever, believe, check, time, ., always, 20, mi..."
      ]
     },
     "execution_count": 8,
     "metadata": {},
     "output_type": "execute_result"
    }
   ],
   "source": [
    "review_by_business.head(5)"
   ]
  },
  {
   "cell_type": "code",
   "execution_count": 12,
   "metadata": {},
   "outputs": [],
   "source": [
    "#business_df.head(5)"
   ]
  },
  {
   "cell_type": "markdown",
   "metadata": {},
   "source": [
    "## Some others useful functions"
   ]
  },
  {
   "cell_type": "code",
   "execution_count": 16,
   "metadata": {},
   "outputs": [],
   "source": [
    "def business_details(business_df, review_df):\n",
    "    business_df = business_df[[\"business_id\", \"name\", \"categories\", \"address\", \"city\", \"state\", \"latitude\", \"longitude\", \"stars\", \"review_count\"]]\n",
    "    new_df = pd.merge(business_df, review_df, how=\"inner\", on=\"business_id\")\n",
    "    return new_df"
   ]
  },
  {
   "cell_type": "code",
   "execution_count": 17,
   "metadata": {},
   "outputs": [],
   "source": [
    "def showInMap(df):\n",
    "    \n",
    "    mp = folium.Map(location=[43.70011, -79.4163], zoom_start=12)\n",
    "\n",
    "    for _, r in df.iterrows():\n",
    "        folium.Marker(\n",
    "                    location =[r.latitude, r.longitude], \n",
    "                    popup = html.escape(\n",
    "                        r[\"name\"]) + '<br>' + \n",
    "                        'Stars: ' + str(r.stars) + '<br>' + \n",
    "                        'Reviews: ' + str(r.review_count) + '<br>' + \n",
    "                        'Categories: ' + str(r.categories) + '<br>',    \n",
    "                    icon = folium.Icon(color='green')).add_to(mp)\n",
    "    return mp"
   ]
  },
  {
   "cell_type": "markdown",
   "metadata": {},
   "source": [
    "# 2. Engine"
   ]
  },
  {
   "cell_type": "code",
   "execution_count": 18,
   "metadata": {},
   "outputs": [],
   "source": [
    "#def get_vect(word, model):\n",
    "#    try:\n",
    "#        return model.wv[word]\n",
    "#    except KeyError:\n",
    "#        return [np.zeros((model.vector_size,))]"
   ]
  },
  {
   "cell_type": "code",
   "execution_count": 9,
   "metadata": {},
   "outputs": [],
   "source": [
    "def avg_feature_vector(sentence, model, n_features):\n",
    "    index2word_set = set(model.wv.index2word)\n",
    "    feature_vec = np.zeros((n_features, ), dtype='float32')\n",
    "    n_words = 0\n",
    "    for word in sentence:\n",
    "        if word in index2word_set:\n",
    "            n_words += 1\n",
    "            feature_vec = np.add(feature_vec, model.wv[word])\n",
    "    if (n_words > 0):\n",
    "        feature_vec = np.divide(feature_vec, n_words)\n",
    "    return feature_vec"
   ]
  },
  {
   "cell_type": "code",
   "execution_count": 10,
   "metadata": {},
   "outputs": [],
   "source": [
    "review_by_business[\"text_vec\"] = review_by_business[\"text\"].apply(lambda x: avg_feature_vector(x, model=model, n_features=200))"
   ]
  },
  {
   "cell_type": "code",
   "execution_count": 11,
   "metadata": {},
   "outputs": [
    {
     "data": {
      "text/html": [
       "<div>\n",
       "<style scoped>\n",
       "    .dataframe tbody tr th:only-of-type {\n",
       "        vertical-align: middle;\n",
       "    }\n",
       "\n",
       "    .dataframe tbody tr th {\n",
       "        vertical-align: top;\n",
       "    }\n",
       "\n",
       "    .dataframe thead th {\n",
       "        text-align: right;\n",
       "    }\n",
       "</style>\n",
       "<table border=\"1\" class=\"dataframe\">\n",
       "  <thead>\n",
       "    <tr style=\"text-align: right;\">\n",
       "      <th></th>\n",
       "      <th>business_id</th>\n",
       "      <th>text</th>\n",
       "      <th>text_vec</th>\n",
       "    </tr>\n",
       "  </thead>\n",
       "  <tbody>\n",
       "    <tr>\n",
       "      <th>0</th>\n",
       "      <td>--1UhMGODdWsrMastO9DZw</td>\n",
       "      <td>[last, review, mention, get, charge, extra, ,,...</td>\n",
       "      <td>[-0.6699545, 0.07671176, 0.6018739, -0.1426049...</td>\n",
       "    </tr>\n",
       "    <tr>\n",
       "      <th>1</th>\n",
       "      <td>--6MefnULPED_I942VcFNA</td>\n",
       "      <td>[decent, food, decent, price, ., standard, chi...</td>\n",
       "      <td>[-0.70146334, 0.04727568, 0.6008351, -0.009889...</td>\n",
       "    </tr>\n",
       "    <tr>\n",
       "      <th>2</th>\n",
       "      <td>--7zmmkVg-IMGaXbuVd0SQ</td>\n",
       "      <td>[recent, tour, lake, norman, area, brewery, ,,...</td>\n",
       "      <td>[-0.475734, 0.54039925, 0.31210145, 0.02571510...</td>\n",
       "    </tr>\n",
       "    <tr>\n",
       "      <th>3</th>\n",
       "      <td>--8LPVSo5i0Oo61X01sV9A</td>\n",
       "      <td>[dr., purcell, good, thorough, ., office, staf...</td>\n",
       "      <td>[0.62700117, 0.45426702, 0.26523137, -0.732726...</td>\n",
       "    </tr>\n",
       "    <tr>\n",
       "      <th>4</th>\n",
       "      <td>--9QQLMTbFzLJ_oT-ON3Xw</td>\n",
       "      <td>[ever, believe, check, time, ., always, 20, mi...</td>\n",
       "      <td>[0.36767393, 0.47562706, 0.7197984, -0.4986300...</td>\n",
       "    </tr>\n",
       "  </tbody>\n",
       "</table>\n",
       "</div>"
      ],
      "text/plain": [
       "              business_id                                               text  \\\n",
       "0  --1UhMGODdWsrMastO9DZw  [last, review, mention, get, charge, extra, ,,...   \n",
       "1  --6MefnULPED_I942VcFNA  [decent, food, decent, price, ., standard, chi...   \n",
       "2  --7zmmkVg-IMGaXbuVd0SQ  [recent, tour, lake, norman, area, brewery, ,,...   \n",
       "3  --8LPVSo5i0Oo61X01sV9A  [dr., purcell, good, thorough, ., office, staf...   \n",
       "4  --9QQLMTbFzLJ_oT-ON3Xw  [ever, believe, check, time, ., always, 20, mi...   \n",
       "\n",
       "                                            text_vec  \n",
       "0  [-0.6699545, 0.07671176, 0.6018739, -0.1426049...  \n",
       "1  [-0.70146334, 0.04727568, 0.6008351, -0.009889...  \n",
       "2  [-0.475734, 0.54039925, 0.31210145, 0.02571510...  \n",
       "3  [0.62700117, 0.45426702, 0.26523137, -0.732726...  \n",
       "4  [0.36767393, 0.47562706, 0.7197984, -0.4986300...  "
      ]
     },
     "execution_count": 11,
     "metadata": {},
     "output_type": "execute_result"
    }
   ],
   "source": [
    "review_by_business.head(5)"
   ]
  },
  {
   "cell_type": "code",
   "execution_count": 13,
   "metadata": {},
   "outputs": [],
   "source": [
    "review_by_business.drop(\"text\", axis=1, inplace=True)"
   ]
  },
  {
   "cell_type": "code",
   "execution_count": 14,
   "metadata": {},
   "outputs": [],
   "source": [
    "#with open(data_path + \"cleaned/review_2016_2019_veconly_vectorized.pickle\", \"wb\") as f:\n",
    "#    pickle.dump(review_by_business, f, protocol=pickle.HIGHEST_PROTOCOL)"
   ]
  },
  {
   "cell_type": "code",
   "execution_count": 13,
   "metadata": {},
   "outputs": [
    {
     "data": {
      "text/plain": [
       "(67716, 200)"
      ]
     },
     "execution_count": 13,
     "metadata": {},
     "output_type": "execute_result"
    }
   ],
   "source": [
    "model.wv.vectors.shape"
   ]
  },
  {
   "cell_type": "code",
   "execution_count": 8,
   "metadata": {},
   "outputs": [
    {
     "data": {
      "text/plain": [
       "[('chinese', 0.7128885388374329),\n",
       " ('taiwanese', 0.7126409411430359),\n",
       " ('cantonese', 0.7020187377929688),\n",
       " ('viet', 0.687890887260437),\n",
       " ('filipino', 0.662496030330658),\n",
       " ('asian', 0.6172739267349243),\n",
       " ('korean', 0.6125739812850952),\n",
       " ('cuban', 0.6119341850280762),\n",
       " ('ethiopian', 0.6098645925521851),\n",
       " ('colombian', 0.6047247648239136)]"
      ]
     },
     "execution_count": 8,
     "metadata": {},
     "output_type": "execute_result"
    }
   ],
   "source": [
    "model.wv.most_similar(\"vietnamese\")"
   ]
  },
  {
   "cell_type": "code",
   "execution_count": null,
   "metadata": {},
   "outputs": [],
   "source": []
  },
  {
   "cell_type": "code",
   "execution_count": 8,
   "metadata": {},
   "outputs": [],
   "source": [
    "def keyword_recommend(input_str, docvecs, model, top_n):\n",
    "    business_similarity = pd.DataFrame()\n",
    "    \n",
    "    from nltk.tokenize import word_tokenize\n",
    "    input_vec = pd.DataFrame({\"text\" : [input_str]})\n",
    "    input_vec[\"text\"] = input_vec[\"text\"].apply(lambda x: word_tokenize(x.lower()))\n",
    "    input_vec[\"text_vec\"] = input_vec[\"text\"].apply(lambda x: avg_feature_vector(x, model=model, n_features=200))\n",
    "    business_similarity = docvecs[[\"business_id\", \"text_vec\"]]\n",
    "    \n",
    "    #compute similarity array\n",
    "    business_similarity[\"score\"] = business_similarity[\"text_vec\"].apply(lambda x: cosine_similarity([x], [input_vec[\"text_vec\"].values[0]])[0][0])\n",
    "    business_similarity = business_similarity.drop(columns=[\"text_vec\"]).sort_values(ascending=False, by=\"score\").head(top_n)\n",
    "    \n",
    "    return business_similarity"
   ]
  },
  {
   "cell_type": "code",
   "execution_count": 34,
   "metadata": {},
   "outputs": [],
   "source": [
    "c = keyword_recommend(\"chicken cheese\", review_by_business, model, 10)"
   ]
  },
  {
   "cell_type": "code",
   "execution_count": 35,
   "metadata": {},
   "outputs": [],
   "source": [
    "d = business_details(business_df, c)"
   ]
  },
  {
   "cell_type": "code",
   "execution_count": 36,
   "metadata": {},
   "outputs": [
    {
     "data": {
      "text/html": [
       "<div>\n",
       "<style scoped>\n",
       "    .dataframe tbody tr th:only-of-type {\n",
       "        vertical-align: middle;\n",
       "    }\n",
       "\n",
       "    .dataframe tbody tr th {\n",
       "        vertical-align: top;\n",
       "    }\n",
       "\n",
       "    .dataframe thead th {\n",
       "        text-align: right;\n",
       "    }\n",
       "</style>\n",
       "<table border=\"1\" class=\"dataframe\">\n",
       "  <thead>\n",
       "    <tr style=\"text-align: right;\">\n",
       "      <th></th>\n",
       "      <th>name</th>\n",
       "      <th>categories</th>\n",
       "      <th>city</th>\n",
       "      <th>score</th>\n",
       "    </tr>\n",
       "  </thead>\n",
       "  <tbody>\n",
       "    <tr>\n",
       "      <th>0</th>\n",
       "      <td>Arby's</td>\n",
       "      <td>Sandwiches, Fast Food, Burgers, Restaurants</td>\n",
       "      <td>Amherst</td>\n",
       "      <td>0.691516</td>\n",
       "    </tr>\n",
       "    <tr>\n",
       "      <th>1</th>\n",
       "      <td>Swiss Chalet Rotisserie &amp; Grill</td>\n",
       "      <td>American (Traditional), Restaurants, Barbeque,...</td>\n",
       "      <td>Mississauga</td>\n",
       "      <td>0.744961</td>\n",
       "    </tr>\n",
       "    <tr>\n",
       "      <th>2</th>\n",
       "      <td>KFC</td>\n",
       "      <td>Chicken Wings, Fast Food, Chicken Shop, Restau...</td>\n",
       "      <td>South Euclid</td>\n",
       "      <td>0.702790</td>\n",
       "    </tr>\n",
       "    <tr>\n",
       "      <th>3</th>\n",
       "      <td>Seaboat</td>\n",
       "      <td>Soul Food, Restaurants, Southern</td>\n",
       "      <td>Champaign</td>\n",
       "      <td>0.712854</td>\n",
       "    </tr>\n",
       "    <tr>\n",
       "      <th>4</th>\n",
       "      <td>Superpumper</td>\n",
       "      <td>Gas Stations, Automotive</td>\n",
       "      <td>Phoenix</td>\n",
       "      <td>0.691757</td>\n",
       "    </tr>\n",
       "    <tr>\n",
       "      <th>5</th>\n",
       "      <td>Nana's Soul Food Kitchen</td>\n",
       "      <td>Breakfast &amp; Brunch, Restaurants, Cajun/Creole,...</td>\n",
       "      <td>Matthews</td>\n",
       "      <td>0.690423</td>\n",
       "    </tr>\n",
       "    <tr>\n",
       "      <th>6</th>\n",
       "      <td>Ollie's Pizza</td>\n",
       "      <td>Restaurants, Pizza</td>\n",
       "      <td>Canonsburg</td>\n",
       "      <td>0.758181</td>\n",
       "    </tr>\n",
       "    <tr>\n",
       "      <th>7</th>\n",
       "      <td>The Family Fry Guy</td>\n",
       "      <td>Street Vendors, Food</td>\n",
       "      <td>Calgary</td>\n",
       "      <td>0.706818</td>\n",
       "    </tr>\n",
       "    <tr>\n",
       "      <th>8</th>\n",
       "      <td>Ming Moon</td>\n",
       "      <td>Restaurants, Chinese</td>\n",
       "      <td>Cleveland</td>\n",
       "      <td>0.709589</td>\n",
       "    </tr>\n",
       "    <tr>\n",
       "      <th>9</th>\n",
       "      <td>Domino's Pizza</td>\n",
       "      <td>Pizza, Chicken Wings, Restaurants, Sandwiches</td>\n",
       "      <td>Kannapolis</td>\n",
       "      <td>0.719900</td>\n",
       "    </tr>\n",
       "  </tbody>\n",
       "</table>\n",
       "</div>"
      ],
      "text/plain": [
       "                              name  \\\n",
       "0                           Arby's   \n",
       "1  Swiss Chalet Rotisserie & Grill   \n",
       "2                              KFC   \n",
       "3                          Seaboat   \n",
       "4                      Superpumper   \n",
       "5         Nana's Soul Food Kitchen   \n",
       "6                    Ollie's Pizza   \n",
       "7               The Family Fry Guy   \n",
       "8                        Ming Moon   \n",
       "9                   Domino's Pizza   \n",
       "\n",
       "                                          categories          city     score  \n",
       "0        Sandwiches, Fast Food, Burgers, Restaurants       Amherst  0.691516  \n",
       "1  American (Traditional), Restaurants, Barbeque,...   Mississauga  0.744961  \n",
       "2  Chicken Wings, Fast Food, Chicken Shop, Restau...  South Euclid  0.702790  \n",
       "3                   Soul Food, Restaurants, Southern     Champaign  0.712854  \n",
       "4                           Gas Stations, Automotive       Phoenix  0.691757  \n",
       "5  Breakfast & Brunch, Restaurants, Cajun/Creole,...      Matthews  0.690423  \n",
       "6                                 Restaurants, Pizza    Canonsburg  0.758181  \n",
       "7                               Street Vendors, Food       Calgary  0.706818  \n",
       "8                               Restaurants, Chinese     Cleveland  0.709589  \n",
       "9      Pizza, Chicken Wings, Restaurants, Sandwiches    Kannapolis  0.719900  "
      ]
     },
     "execution_count": 36,
     "metadata": {},
     "output_type": "execute_result"
    }
   ],
   "source": [
    "d[[\"name\", \"categories\", \"city\", \"score\"]]"
   ]
  },
  {
   "cell_type": "code",
   "execution_count": 108,
   "metadata": {},
   "outputs": [
    {
     "data": {
      "text/html": [
       "<div style=\"width:100%;\"><div style=\"position:relative;width:100%;height:0;padding-bottom:60%;\"><span style=\"color:#565656\">Make this Notebook Trusted to load map: File -> Trust Notebook</span><iframe src=\"about:blank\" style=\"position:absolute;width:100%;height:100%;left:0;top:0;border:none !important;\" data-html=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 onload=\"this.contentDocument.open();this.contentDocument.write(atob(this.getAttribute('data-html')));this.contentDocument.close();\" allowfullscreen webkitallowfullscreen mozallowfullscreen></iframe></div></div>"
      ],
      "text/plain": [
       "<folium.folium.Map at 0x7fba8ba1f590>"
      ]
     },
     "execution_count": 108,
     "metadata": {},
     "output_type": "execute_result"
    }
   ],
   "source": [
    "showInMap(d)"
   ]
  },
  {
   "cell_type": "code",
   "execution_count": null,
   "metadata": {},
   "outputs": [],
   "source": []
  },
  {
   "cell_type": "code",
   "execution_count": 40,
   "metadata": {},
   "outputs": [],
   "source": [
    "def avg_feature_vector(sentence, model, n_features):\n",
    "    index2word_set = set(model.wv.index2word)\n",
    "    feature_vec = np.zeros((n_features, ), dtype='float32')\n",
    "    n_words = 0\n",
    "    for word in sentence:\n",
    "        if word in index2word_set:\n",
    "            n_words += 1\n",
    "            feature_vec = np.add(feature_vec, model.wv[word])\n",
    "    if (n_words > 0):\n",
    "        feature_vec = np.divide(feature_vec, n_words)\n",
    "    return feature_vec"
   ]
  },
  {
   "cell_type": "code",
   "execution_count": 41,
   "metadata": {},
   "outputs": [],
   "source": [
    "from sklearn.metrics.pairwise import cosine_similarity\n",
    "def business_similarity(business_ids, docvecs, top_n):\n",
    "    businesses_similarity = pd.DataFrame()\n",
    "    for business_id in business_ids:\n",
    "        business_similarity = pd.DataFrame()\n",
    "        input_vec = docvecs[docvecs[\"business_id\"] == business_id]\n",
    "        business_similarity = docvecs[[\"business_id\", \"text_vec\"]]\n",
    "\n",
    "        #compute similarity array\n",
    "        business_similarity[\"score\"] = business_similarity[\"text_vec\"].apply(lambda x: cosine_similarity([x] , [input_vec[\"text_vec\"].values[0]])[0][0])\n",
    "        business_similarity = business_similarity.drop(columns=[\"text_vec\"]).sort_values(ascending=False, by=\"score\")\n",
    "        \n",
    "        #Filter business with the same id\n",
    "        business_similarity = business_similarity[business_similarity[\"business_id\"] != business_id].head(top_n)\n",
    "        business_similarity[\"input_business_id\"] = business_id\n",
    "        businesses_similarity= pd.concat([businesses_similarity, business_similarity])\n",
    "        \n",
    "    return businesses_similarity"
   ]
  },
  {
   "cell_type": "code",
   "execution_count": 42,
   "metadata": {},
   "outputs": [],
   "source": [
    "a = business_similarity([\"-0BxAGlIk5DJAGVkpqBXxg\", \"--7zmmkVg-IMGaXbuVd0SQ\"], review_by_business, 10)"
   ]
  },
  {
   "cell_type": "code",
   "execution_count": 87,
   "metadata": {},
   "outputs": [],
   "source": []
  },
  {
   "cell_type": "code",
   "execution_count": 88,
   "metadata": {},
   "outputs": [],
   "source": [
    "b = business_details(business_df, a)"
   ]
  },
  {
   "cell_type": "code",
   "execution_count": 100,
   "metadata": {},
   "outputs": [
    {
     "data": {
      "text/html": [
       "<div style=\"width:100%;\"><div style=\"position:relative;width:100%;height:0;padding-bottom:60%;\"><span style=\"color:#565656\">Make this Notebook Trusted to load map: File -> Trust Notebook</span><iframe src=\"about:blank\" style=\"position:absolute;width:100%;height:100%;left:0;top:0;border:none !important;\" data-html=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 onload=\"this.contentDocument.open();this.contentDocument.write(atob(this.getAttribute('data-html')));this.contentDocument.close();\" allowfullscreen webkitallowfullscreen mozallowfullscreen></iframe></div></div>"
      ],
      "text/plain": [
       "<folium.folium.Map at 0x7fba8b952490>"
      ]
     },
     "execution_count": 100,
     "metadata": {},
     "output_type": "execute_result"
    }
   ],
   "source": [
    "showInMap(b)"
   ]
  },
  {
   "cell_type": "code",
   "execution_count": null,
   "metadata": {},
   "outputs": [],
   "source": []
  }
 ],
 "metadata": {
  "kernelspec": {
   "display_name": "Python 3",
   "language": "python",
   "name": "python3"
  },
  "language_info": {
   "codemirror_mode": {
    "name": "ipython",
    "version": 3
   },
   "file_extension": ".py",
   "mimetype": "text/x-python",
   "name": "python",
   "nbconvert_exporter": "python",
   "pygments_lexer": "ipython3",
   "version": "3.7.7"
  }
 },
 "nbformat": 4,
 "nbformat_minor": 4
}
