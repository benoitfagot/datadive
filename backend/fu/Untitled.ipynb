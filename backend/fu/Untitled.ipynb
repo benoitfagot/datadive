{
 "cells": [
  {
   "cell_type": "code",
   "execution_count": 1,
   "metadata": {},
   "outputs": [],
   "source": [
    "import pandas as pd\n",
    "import numpy as np\n",
    "import nltk\n",
    "import pickle\n",
    "from sklearn.metrics.pairwise import cosine_similarity\n",
    "from sklearn import preprocessing"
   ]
  },
  {
   "cell_type": "code",
   "execution_count": 2,
   "metadata": {},
   "outputs": [],
   "source": [
    "from geopy.exc import GeocoderTimedOut, GeocoderServiceError, GeocoderUnavailable\n",
    "from geopy.geocoders import Nominatim\n",
    "from math import radians, cos, sin, asin, sqrt\n",
    "import requests"
   ]
  },
  {
   "cell_type": "code",
   "execution_count": 3,
   "metadata": {},
   "outputs": [],
   "source": [
    "data_path = \"/home/hongphuc95/notebookteam/dataset/\""
   ]
  },
  {
   "cell_type": "code",
   "execution_count": 4,
   "metadata": {},
   "outputs": [],
   "source": [
    "business_df = pd.read_json(data_path + \"business.json\", lines=True)"
   ]
  },
  {
   "cell_type": "code",
   "execution_count": 15,
   "metadata": {},
   "outputs": [],
   "source": [
    "business_df = business_df.dropna(subset=[\"categories\"]).reset_index(drop=True)"
   ]
  },
  {
   "cell_type": "code",
   "execution_count": 16,
   "metadata": {},
   "outputs": [],
   "source": [
    "import numpy as np\n",
    "import scipy.spatial as spatial"
   ]
  },
  {
   "cell_type": "code",
   "execution_count": 17,
   "metadata": {},
   "outputs": [],
   "source": [
    "#points = business_df[[\"longitude\", \"latitude\"]]\n",
    "#point_tree = spatial.cKDTree(points)"
   ]
  },
  {
   "cell_type": "code",
   "execution_count": 18,
   "metadata": {},
   "outputs": [],
   "source": [
    "#len(point_tree.query_ball_point([-112.0185, 33.522144], 0.001))"
   ]
  },
  {
   "cell_type": "code",
   "execution_count": 19,
   "metadata": {},
   "outputs": [],
   "source": [
    "from math import *\n",
    "\n",
    "def cartesian(lat, lng, elevation = 0):\n",
    "    '''\n",
    "    function to convert latitude and longitude to 3D cartesian coordinates\n",
    "    '''\n",
    "    # Convert to radians\n",
    "    #lat = lat * (pi / 180)\n",
    "    #lng = lng * (pi / 180)\n",
    "    \n",
    "    R = 6371 # radius of the Earth in kilometers\n",
    "\n",
    "    x = R * cos(lat) * cos(lng)\n",
    "    y = R * cos(lat) * sin(lng)\n",
    "    z = R * sin(lat)\n",
    "    return x, y, z\n",
    "\n",
    "def rad2deg(rad):\n",
    "    '''\n",
    "    function to convert radian to degree\n",
    "    '''\n",
    "    degree = (rad*180) / pi\n",
    "    return(degree)\n",
    "\n",
    "def deg2rad(degree):\n",
    "    '''\n",
    "    function to convert degree to radian\n",
    "    '''\n",
    "    rad = degree * (pi/180)\n",
    "    return(rad)\n",
    "\n",
    "def kmToDIST(x):\n",
    "    '''\n",
    "    function to convert real distance in km to cartesian distance \n",
    "    '''\n",
    "    R = 6371 # earth radius\n",
    "    gamma = 2*np.arcsin(x/2./R) \n",
    "    \n",
    "    dist = 2*R*rad2deg(sin(gamma / 2.))\n",
    "    return(dist)\n",
    "\n",
    "def distToKM(x):\n",
    "    '''\n",
    "    function to convert cartesian distance to real distance in km\n",
    "    '''\n",
    "    R = 6371 # earth radius\n",
    "    gamma = 2*np.arcsin(deg2rad(x/(2*R))) # compute the angle of the isosceles triangle\n",
    "    dist = 2*R*sin(gamma/2) # compute the side of the triangle\n",
    "    return(dist)"
   ]
  },
  {
   "cell_type": "code",
   "execution_count": null,
   "metadata": {},
   "outputs": [],
   "source": []
  },
  {
   "cell_type": "code",
   "execution_count": 20,
   "metadata": {},
   "outputs": [],
   "source": [
    "x, y, z = zip(*map(cartesian, business_df[\"latitude\"], business_df[\"longitude\"]))"
   ]
  },
  {
   "cell_type": "code",
   "execution_count": 21,
   "metadata": {},
   "outputs": [],
   "source": [
    "x_ref, y_ref, z_ref = cartesian(36.1672559, -115.1485163)"
   ]
  },
  {
   "cell_type": "code",
   "execution_count": 22,
   "metadata": {},
   "outputs": [
    {
     "data": {
      "text/plain": [
       "(-114.61803702647761, -219.954190214815, -6366.170266321436)"
      ]
     },
     "execution_count": 22,
     "metadata": {},
     "output_type": "execute_result"
    }
   ],
   "source": [
    "x_ref, y_ref, z_ref"
   ]
  },
  {
   "cell_type": "code",
   "execution_count": 23,
   "metadata": {},
   "outputs": [],
   "source": [
    "coordinates = list(zip(x, y, z))"
   ]
  },
  {
   "cell_type": "code",
   "execution_count": 24,
   "metadata": {},
   "outputs": [],
   "source": [
    "tree = spatial.cKDTree(coordinates)"
   ]
  },
  {
   "cell_type": "code",
   "execution_count": 25,
   "metadata": {},
   "outputs": [],
   "source": [
    "dist = kmToDIST(0.1)"
   ]
  },
  {
   "cell_type": "code",
   "execution_count": 26,
   "metadata": {},
   "outputs": [
    {
     "data": {
      "text/plain": [
       "5.729577951308232"
      ]
     },
     "execution_count": 26,
     "metadata": {},
     "output_type": "execute_result"
    }
   ],
   "source": [
    "dist"
   ]
  },
  {
   "cell_type": "code",
   "execution_count": 33,
   "metadata": {},
   "outputs": [
    {
     "data": {
      "text/plain": [
       "0.09847103482921932"
      ]
     },
     "execution_count": 33,
     "metadata": {},
     "output_type": "execute_result"
    }
   ],
   "source": [
    "distToKM(5.6419747)"
   ]
  },
  {
   "cell_type": "code",
   "execution_count": null,
   "metadata": {},
   "outputs": [],
   "source": []
  },
  {
   "cell_type": "code",
   "execution_count": 39,
   "metadata": {},
   "outputs": [],
   "source": [
    "index, idy = tree.query((x_ref, y_ref, z_ref), 136)"
   ]
  },
  {
   "cell_type": "code",
   "execution_count": 40,
   "metadata": {},
   "outputs": [],
   "source": [
    "idx = tree.query_ball_point((x_ref, y_ref, z_ref), dist)"
   ]
  },
  {
   "cell_type": "code",
   "execution_count": 44,
   "metadata": {},
   "outputs": [
    {
     "data": {
      "text/plain": [
       "136"
      ]
     },
     "execution_count": 44,
     "metadata": {},
     "output_type": "execute_result"
    }
   ],
   "source": [
    "len(np.intersect1d(idx, idy))"
   ]
  },
  {
   "cell_type": "code",
   "execution_count": null,
   "metadata": {},
   "outputs": [],
   "source": []
  },
  {
   "cell_type": "code",
   "execution_count": null,
   "metadata": {},
   "outputs": [],
   "source": []
  },
  {
   "cell_type": "code",
   "execution_count": null,
   "metadata": {},
   "outputs": [],
   "source": []
  },
  {
   "cell_type": "code",
   "execution_count": 50,
   "metadata": {},
   "outputs": [],
   "source": [
    "from pysal.cg.kdtree import KDTree\n",
    "from pysal.cg import RADIUS_EARTH_KM"
   ]
  },
  {
   "cell_type": "code",
   "execution_count": 81,
   "metadata": {},
   "outputs": [],
   "source": [
    "data_geopoints = [tuple(x) for x in business_df[['latitude', 'longitude']].to_records(index=False)]"
   ]
  },
  {
   "cell_type": "code",
   "execution_count": 82,
   "metadata": {},
   "outputs": [],
   "source": [
    "tree = KDTree(data_geopoints, distance_metric='Arc', radius=RADIUS_EARTH_KM)"
   ]
  },
  {
   "cell_type": "code",
   "execution_count": 83,
   "metadata": {},
   "outputs": [],
   "source": [
    "s = (36.1672559, -115.1485163)"
   ]
  },
  {
   "cell_type": "code",
   "execution_count": 84,
   "metadata": {},
   "outputs": [
    {
     "data": {
      "text/plain": [
       "(33.5221425, -112.0184807)"
      ]
     },
     "execution_count": 84,
     "metadata": {},
     "output_type": "execute_result"
    }
   ],
   "source": [
    "data_geopoints[0]"
   ]
  },
  {
   "cell_type": "code",
   "execution_count": 87,
   "metadata": {},
   "outputs": [],
   "source": [
    "indices = tree.query_ball_point(s, 0.1)"
   ]
  },
  {
   "cell_type": "code",
   "execution_count": 88,
   "metadata": {},
   "outputs": [
    {
     "data": {
      "text/plain": [
       "[128637, 83662, 776, 87649, 129904, 132705]"
      ]
     },
     "execution_count": 88,
     "metadata": {},
     "output_type": "execute_result"
    }
   ],
   "source": [
    "indices"
   ]
  },
  {
   "cell_type": "code",
   "execution_count": null,
   "metadata": {},
   "outputs": [],
   "source": []
  },
  {
   "cell_type": "code",
   "execution_count": 89,
   "metadata": {},
   "outputs": [],
   "source": [
    "from sklearn.neighbors import BallTree"
   ]
  },
  {
   "cell_type": "code",
   "execution_count": 155,
   "metadata": {},
   "outputs": [],
   "source": [
    "coordinates = business_df[[\"latitude\", \"longitude\"]]"
   ]
  },
  {
   "cell_type": "code",
   "execution_count": 156,
   "metadata": {},
   "outputs": [],
   "source": [
    "def deg2rad(degree):\n",
    "        '''\n",
    "        function to convert degree to radian\n",
    "        '''\n",
    "        rad = degree * (pi/180)\n",
    "        return(rad)"
   ]
  },
  {
   "cell_type": "code",
   "execution_count": 157,
   "metadata": {},
   "outputs": [],
   "source": [
    "coordinates = coordinates.apply(lambda x: deg2rad(x))"
   ]
  },
  {
   "cell_type": "code",
   "execution_count": 158,
   "metadata": {},
   "outputs": [
    {
     "data": {
      "text/plain": [
       "rec.array([(0.58507176, -1.95509131), (0.76105953, -1.3901947 ),\n",
       "           (0.61248078, -1.41125808), ..., (0.58782675, -1.95538956),\n",
       "           (0.58322161, -1.95015661), (0.6301907 , -2.01012922)],\n",
       "          dtype=[('latitude', '<f8'), ('longitude', '<f8')])"
      ]
     },
     "execution_count": 158,
     "metadata": {},
     "output_type": "execute_result"
    }
   ],
   "source": [
    "coordinates.to_records(index=False)"
   ]
  },
  {
   "cell_type": "code",
   "execution_count": 159,
   "metadata": {},
   "outputs": [],
   "source": [
    "tree = BallTree(coordinates, metric='haversine')   "
   ]
  },
  {
   "cell_type": "code",
   "execution_count": 160,
   "metadata": {},
   "outputs": [],
   "source": [
    "a = [[36.1672559 * (np.pi / 180), -115.1485163 * (np.pi / 180)]]"
   ]
  },
  {
   "cell_type": "code",
   "execution_count": 163,
   "metadata": {},
   "outputs": [],
   "source": [
    "idx = tree.query_radius(a, r=0.001/6371)"
   ]
  },
  {
   "cell_type": "code",
   "execution_count": 165,
   "metadata": {},
   "outputs": [
    {
     "data": {
      "text/plain": [
       "array([], dtype=int64)"
      ]
     },
     "execution_count": 165,
     "metadata": {},
     "output_type": "execute_result"
    }
   ],
   "source": [
    "idx[0]"
   ]
  },
  {
   "cell_type": "code",
   "execution_count": null,
   "metadata": {},
   "outputs": [],
   "source": []
  },
  {
   "cell_type": "code",
   "execution_count": 146,
   "metadata": {},
   "outputs": [
    {
     "data": {
      "text/plain": [
       "3"
      ]
     },
     "execution_count": 146,
     "metadata": {},
     "output_type": "execute_result"
    }
   ],
   "source": [
    "len(idx[0].tolist())"
   ]
  },
  {
   "cell_type": "code",
   "execution_count": null,
   "metadata": {},
   "outputs": [],
   "source": [
    "    def cartesian(self, lat, lng, elevation = 0):\n",
    "        '''\n",
    "        function to convert latitude and longitude to 3D cartesian coordinates\n",
    "        '''\n",
    "        R = 6371 # radius of the Earth in kilometers\n",
    "\n",
    "        x = R * cos(lat) * cos(lng)\n",
    "        y = R * cos(lat) * sin(lng)\n",
    "        z = R * sin(lat)\n",
    "        return x, y, z\n",
    "\n",
    "    def rad2deg(self, rad):\n",
    "        '''\n",
    "        function to convert radian to degree\n",
    "        '''\n",
    "        degree = (rad*180) / pi\n",
    "        return(degree)\n",
    "\n",
    "    def deg2rad(self, degree):\n",
    "        '''\n",
    "        function to convert degree to radian\n",
    "        '''\n",
    "        rad = degree * (pi/180)\n",
    "        return(rad)\n",
    "\n",
    "    def kmToDist(self, x):\n",
    "        '''\n",
    "        function to convert real distance in km to cartesian distance \n",
    "        '''\n",
    "        R = 6371 # earth radius\n",
    "        gamma = 2*np.arcsin(x/2./R) \n",
    "\n",
    "        dist = 2*R*self.rad2deg(sin(gamma / 2.))\n",
    "        return(dist)\n",
    "\n",
    "    def distToKm(self, x):\n",
    "        '''\n",
    "        function to convert cartesian distance to real distance in km\n",
    "        '''\n",
    "        R = 6371 # earth radius\n",
    "        gamma = 2*np.arcsin(self.deg2rad(x/(2*R))) # compute the angle of the isosceles triangle\n",
    "        dist = 2*R*sin(gamma/2) # compute the side of the triangle\n",
    "        return(dist)"
   ]
  },
  {
   "cell_type": "code",
   "execution_count": null,
   "metadata": {},
   "outputs": [],
   "source": []
  },
  {
   "cell_type": "code",
   "execution_count": null,
   "metadata": {},
   "outputs": [],
   "source": []
  },
  {
   "cell_type": "code",
   "execution_count": null,
   "metadata": {},
   "outputs": [],
   "source": []
  },
  {
   "cell_type": "code",
   "execution_count": null,
   "metadata": {},
   "outputs": [],
   "source": []
  },
  {
   "cell_type": "code",
   "execution_count": null,
   "metadata": {},
   "outputs": [],
   "source": []
  },
  {
   "cell_type": "code",
   "execution_count": null,
   "metadata": {},
   "outputs": [],
   "source": []
  },
  {
   "cell_type": "code",
   "execution_count": 1,
   "metadata": {},
   "outputs": [],
   "source": [
    "import sys\n",
    "pathModulesES = '../sauceforyall/'\n",
    "sys.path.append(pathModulesES)\n",
    "from yelpquery import YelpQuery\n",
    "from pandasticsearch import Select\n",
    "ye = YelpQuery()"
   ]
  },
  {
   "cell_type": "code",
   "execution_count": 2,
   "metadata": {},
   "outputs": [],
   "source": [
    "first_chunk = ye.getBusinessById(businessId=\"r7T-m8c5bB5HM6GEkK-ZGw\")"
   ]
  },
  {
   "cell_type": "code",
   "execution_count": 4,
   "metadata": {},
   "outputs": [],
   "source": [
    "first_chunk = ye.getSingleTerm(\"yelp-business\", \"business_id.keyword\", value=\"r7T-m8c5bB5HM6GEkK-ZGw\")"
   ]
  },
  {
   "cell_type": "code",
   "execution_count": 5,
   "metadata": {},
   "outputs": [
    {
     "data": {
      "text/plain": [
       "{'_scroll_id': 'DXF1ZXJ5QW5kRmV0Y2gBAAAAAAAFND4WWGk4MkFob1hSbkdmdDRDU0JId05sQQ==',\n",
       " 'took': 0,\n",
       " 'timed_out': False,\n",
       " '_shards': {'total': 1, 'successful': 1, 'skipped': 0, 'failed': 0},\n",
       " 'hits': {'total': {'value': 1, 'relation': 'eq'},\n",
       "  'max_score': 11.762958,\n",
       "  'hits': [{'_index': 'yelp-business',\n",
       "    '_type': '_doc',\n",
       "    '_id': 'WhFj5XEBXYQmZMVB7pN5',\n",
       "    '_score': 11.762958,\n",
       "    '_source': {'hours': {'Monday': {'Opening': '00:00', 'Closing': '00:00'},\n",
       "      'Friday': {'Opening': '00:00', 'Closing': '00:00'},\n",
       "      'Wednesday': {'Opening': '00:00', 'Closing': '00:00'},\n",
       "      'Thursday': {'Opening': '00:00', 'Closing': '00:00'},\n",
       "      'Sunday': {'Opening': '00:00', 'Closing': '00:00'},\n",
       "      'Tuesday': {'Opening': '00:00', 'Closing': '00:00'},\n",
       "      'Saturday': {'Opening': '00:00', 'Closing': '00:00'}},\n",
       "     'stars': 3.5,\n",
       "     'is_open': 1,\n",
       "     'business_id': 'r7T-m8c5bB5HM6GEkK-ZGw',\n",
       "     'categories': ['Beauty & Spas',\n",
       "      'Medical Centers',\n",
       "      'Drugstores',\n",
       "      'Convenience Stores',\n",
       "      'Shopping',\n",
       "      'Cosmetics & Beauty Supply',\n",
       "      'Photography Stores & Services',\n",
       "      'Health & Medical',\n",
       "      'Food'],\n",
       "     '@version': '1',\n",
       "     'name': 'Walgreens',\n",
       "     'address': '495 Fremont St',\n",
       "     'attributes': {'ByAppointmentOnly': False,\n",
       "      'Caters': False,\n",
       "      'BusinessParking': {'garage': True,\n",
       "       'validated': False,\n",
       "       'valet': False,\n",
       "       'street': False,\n",
       "       'lot': False},\n",
       "      'BusinessAcceptsCreditCards': True,\n",
       "      'RestaurantsTakeOut': False,\n",
       "      'RestaurantsPriceRange2': 1,\n",
       "      'Alcohol': 'full_bar',\n",
       "      'BikeParking': True,\n",
       "      'RestaurantsDelivery': False},\n",
       "     'latitude': 36.1693968,\n",
       "     '@timestamp': '2020-05-05T15:11:03.681Z',\n",
       "     'review_count': 27,\n",
       "     'state': 'NV',\n",
       "     'city': 'Las Vegas',\n",
       "     'postal_code': '89101',\n",
       "     'longitude': -115.1415845}}]}}"
      ]
     },
     "execution_count": 5,
     "metadata": {},
     "output_type": "execute_result"
    }
   ],
   "source": [
    "first_chunk"
   ]
  },
  {
   "cell_type": "code",
   "execution_count": 6,
   "metadata": {},
   "outputs": [],
   "source": [
    "business_df = ye.getResultScrolling(first_chunk)"
   ]
  },
  {
   "cell_type": "code",
   "execution_count": 7,
   "metadata": {},
   "outputs": [
    {
     "data": {
      "text/html": [
       "<div>\n",
       "<style scoped>\n",
       "    .dataframe tbody tr th:only-of-type {\n",
       "        vertical-align: middle;\n",
       "    }\n",
       "\n",
       "    .dataframe tbody tr th {\n",
       "        vertical-align: top;\n",
       "    }\n",
       "\n",
       "    .dataframe thead th {\n",
       "        text-align: right;\n",
       "    }\n",
       "</style>\n",
       "<table border=\"1\" class=\"dataframe\">\n",
       "  <thead>\n",
       "    <tr style=\"text-align: right;\">\n",
       "      <th></th>\n",
       "      <th>hours.Monday.Opening</th>\n",
       "      <th>hours.Monday.Closing</th>\n",
       "      <th>hours.Friday.Opening</th>\n",
       "      <th>hours.Friday.Closing</th>\n",
       "      <th>hours.Wednesday.Opening</th>\n",
       "      <th>hours.Wednesday.Closing</th>\n",
       "      <th>hours.Thursday.Opening</th>\n",
       "      <th>hours.Thursday.Closing</th>\n",
       "      <th>hours.Sunday.Opening</th>\n",
       "      <th>hours.Sunday.Closing</th>\n",
       "      <th>...</th>\n",
       "      <th>attributes.Alcohol</th>\n",
       "      <th>attributes.BikeParking</th>\n",
       "      <th>attributes.RestaurantsDelivery</th>\n",
       "      <th>latitude</th>\n",
       "      <th>@timestamp</th>\n",
       "      <th>review_count</th>\n",
       "      <th>state</th>\n",
       "      <th>city</th>\n",
       "      <th>postal_code</th>\n",
       "      <th>longitude</th>\n",
       "    </tr>\n",
       "  </thead>\n",
       "  <tbody>\n",
       "    <tr>\n",
       "      <th>0</th>\n",
       "      <td>00:00</td>\n",
       "      <td>00:00</td>\n",
       "      <td>00:00</td>\n",
       "      <td>00:00</td>\n",
       "      <td>00:00</td>\n",
       "      <td>00:00</td>\n",
       "      <td>00:00</td>\n",
       "      <td>00:00</td>\n",
       "      <td>00:00</td>\n",
       "      <td>00:00</td>\n",
       "      <td>...</td>\n",
       "      <td>full_bar</td>\n",
       "      <td>True</td>\n",
       "      <td>False</td>\n",
       "      <td>36.169397</td>\n",
       "      <td>2020-05-05T15:11:03.681Z</td>\n",
       "      <td>27</td>\n",
       "      <td>NV</td>\n",
       "      <td>Las Vegas</td>\n",
       "      <td>89101</td>\n",
       "      <td>-115.141584</td>\n",
       "    </tr>\n",
       "  </tbody>\n",
       "</table>\n",
       "<p>1 rows × 41 columns</p>\n",
       "</div>"
      ],
      "text/plain": [
       "  hours.Monday.Opening hours.Monday.Closing hours.Friday.Opening  \\\n",
       "0                00:00                00:00                00:00   \n",
       "\n",
       "  hours.Friday.Closing hours.Wednesday.Opening hours.Wednesday.Closing  \\\n",
       "0                00:00                   00:00                   00:00   \n",
       "\n",
       "  hours.Thursday.Opening hours.Thursday.Closing hours.Sunday.Opening  \\\n",
       "0                  00:00                  00:00                00:00   \n",
       "\n",
       "  hours.Sunday.Closing  ... attributes.Alcohol attributes.BikeParking  \\\n",
       "0                00:00  ...           full_bar                   True   \n",
       "\n",
       "  attributes.RestaurantsDelivery   latitude                @timestamp  \\\n",
       "0                          False  36.169397  2020-05-05T15:11:03.681Z   \n",
       "\n",
       "   review_count state       city postal_code   longitude  \n",
       "0            27    NV  Las Vegas       89101 -115.141584  \n",
       "\n",
       "[1 rows x 41 columns]"
      ]
     },
     "execution_count": 7,
     "metadata": {},
     "output_type": "execute_result"
    }
   ],
   "source": [
    "business_df"
   ]
  },
  {
   "cell_type": "code",
   "execution_count": null,
   "metadata": {},
   "outputs": [],
   "source": []
  },
  {
   "cell_type": "code",
   "execution_count": null,
   "metadata": {},
   "outputs": [],
   "source": []
  },
  {
   "cell_type": "code",
   "execution_count": 1,
   "metadata": {},
   "outputs": [],
   "source": [
    "import pandas as pd\n",
    "import numpy as np"
   ]
  },
  {
   "cell_type": "code",
   "execution_count": 4,
   "metadata": {},
   "outputs": [],
   "source": [
    "df = pd.read_json(\"/home/hongphuc95/notebookteam/dataset/trends/checkin_per_business.json\", lines=True)"
   ]
  },
  {
   "cell_type": "code",
   "execution_count": 9,
   "metadata": {},
   "outputs": [],
   "source": [
    "df_json = df[[\"business_id\", \"all_years\", \"2016\", \"2017\", \"2018\"]]"
   ]
  },
  {
   "cell_type": "code",
   "execution_count": 10,
   "metadata": {},
   "outputs": [],
   "source": [
    "df_json.to_json(\"/home/hongphuc95/notebookteam/dataset/trends/checkin_per_business_elite.json\", orient=\"records\", lines=True)"
   ]
  },
  {
   "cell_type": "code",
   "execution_count": 6,
   "metadata": {},
   "outputs": [
    {
     "data": {
      "text/plain": [
       "(73356, 53)"
      ]
     },
     "execution_count": 6,
     "metadata": {},
     "output_type": "execute_result"
    }
   ],
   "source": [
    "df.shape"
   ]
  },
  {
   "cell_type": "code",
   "execution_count": null,
   "metadata": {},
   "outputs": [],
   "source": []
  }
 ],
 "metadata": {
  "kernelspec": {
   "display_name": "Python 3",
   "language": "python",
   "name": "python3"
  },
  "language_info": {
   "codemirror_mode": {
    "name": "ipython",
    "version": 3
   },
   "file_extension": ".py",
   "mimetype": "text/x-python",
   "name": "python",
   "nbconvert_exporter": "python",
   "pygments_lexer": "ipython3",
   "version": "3.7.7"
  }
 },
 "nbformat": 4,
 "nbformat_minor": 4
}
