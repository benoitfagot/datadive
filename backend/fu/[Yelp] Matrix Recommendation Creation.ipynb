{
 "cells": [
  {
   "cell_type": "markdown",
   "metadata": {},
   "source": [
    "# Libraries"
   ]
  },
  {
   "cell_type": "markdown",
   "metadata": {},
   "source": [
    "**Machine Learning**"
   ]
  },
  {
   "cell_type": "code",
   "execution_count": 1,
   "metadata": {},
   "outputs": [],
   "source": [
    "import pandas as pd\n",
    "import numpy as np\n",
    "import nltk\n",
    "import pickle"
   ]
  },
  {
   "cell_type": "code",
   "execution_count": 2,
   "metadata": {},
   "outputs": [],
   "source": [
    "from sklearn.model_selection import train_test_split\n",
    "from sklearn.feature_extraction.text import TfidfVectorizer\n",
    "from scipy import sparse"
   ]
  },
  {
   "cell_type": "markdown",
   "metadata": {},
   "source": [
    "**Others**"
   ]
  },
  {
   "cell_type": "code",
   "execution_count": 3,
   "metadata": {},
   "outputs": [],
   "source": [
    "import re\n",
    "import string"
   ]
  },
  {
   "cell_type": "markdown",
   "metadata": {},
   "source": [
    "**Path**"
   ]
  },
  {
   "cell_type": "code",
   "execution_count": 4,
   "metadata": {},
   "outputs": [],
   "source": [
    "data_path = \"/home/hongphuc95/notebookteam/dataset/\""
   ]
  },
  {
   "cell_type": "markdown",
   "metadata": {},
   "source": [
    "# 1. Data PreProcessing"
   ]
  },
  {
   "cell_type": "markdown",
   "metadata": {},
   "source": [
    "## 1.1 Load and clean data"
   ]
  },
  {
   "cell_type": "code",
   "execution_count": 5,
   "metadata": {},
   "outputs": [],
   "source": [
    "df = pd.read_json(data_path + \"cleaned/review_stars_Las Vegas.json\", lines=True)"
   ]
  },
  {
   "cell_type": "markdown",
   "metadata": {},
   "source": [
    "**Missing data**"
   ]
  },
  {
   "cell_type": "code",
   "execution_count": 6,
   "metadata": {},
   "outputs": [
    {
     "data": {
      "text/plain": [
       "business_id    False\n",
       "name           False\n",
       "state          False\n",
       "city           False\n",
       "categories      True\n",
       "is_open        False\n",
       "user_id        False\n",
       "stars          False\n",
       "text           False\n",
       "date           False\n",
       "dtype: bool"
      ]
     },
     "execution_count": 6,
     "metadata": {},
     "output_type": "execute_result"
    }
   ],
   "source": [
    "df.isna().any()"
   ]
  },
  {
   "cell_type": "code",
   "execution_count": 7,
   "metadata": {},
   "outputs": [],
   "source": [
    "df = df.dropna(subset=[\"categories\"])"
   ]
  },
  {
   "cell_type": "code",
   "execution_count": 8,
   "metadata": {},
   "outputs": [
    {
     "data": {
      "text/plain": [
       "(285538, 10)"
      ]
     },
     "execution_count": 8,
     "metadata": {},
     "output_type": "execute_result"
    }
   ],
   "source": [
    "df.shape"
   ]
  },
  {
   "cell_type": "markdown",
   "metadata": {},
   "source": [
    "**Get relevant data for the recommendation**"
   ]
  },
  {
   "cell_type": "code",
   "execution_count": 9,
   "metadata": {},
   "outputs": [],
   "source": [
    "relevant_feature = [\"business_id\", \"user_id\", \"stars\"]\n",
    "recommender_df = df[relevant_feature]"
   ]
  },
  {
   "cell_type": "code",
   "execution_count": 10,
   "metadata": {},
   "outputs": [],
   "source": [
    "review_count_df = recommender_df.groupby(\"user_id\")[\"stars\"].count()"
   ]
  },
  {
   "cell_type": "markdown",
   "metadata": {},
   "source": [
    "**Filter active user whose has more than 10 reviews**"
   ]
  },
  {
   "cell_type": "code",
   "execution_count": 11,
   "metadata": {},
   "outputs": [],
   "source": [
    "filter_active_user = []\n",
    "for user in review_count_df[review_count_df >= 10].index:\n",
    "    filter_active_user.append(user)"
   ]
  },
  {
   "cell_type": "code",
   "execution_count": 12,
   "metadata": {},
   "outputs": [],
   "source": [
    "active_user_df = recommender_df[recommender_df[\"user_id\"].isin(filter_active_user)]"
   ]
  },
  {
   "cell_type": "markdown",
   "metadata": {},
   "source": [
    "**Take mean of multiple visits of one place for an user**"
   ]
  },
  {
   "cell_type": "code",
   "execution_count": 13,
   "metadata": {},
   "outputs": [],
   "source": [
    "recommender_df = recommender_df.groupby([\"user_id\", \"business_id\"], as_index=False).mean()"
   ]
  },
  {
   "cell_type": "markdown",
   "metadata": {},
   "source": [
    "**Create id of sparse matrix for business_id and user_id**"
   ]
  },
  {
   "cell_type": "code",
   "execution_count": 14,
   "metadata": {},
   "outputs": [],
   "source": [
    "user_id = list(set(active_user_df['user_id']))\n",
    "business_id = list(set(active_user_df['business_id']))"
   ]
  },
  {
   "cell_type": "code",
   "execution_count": 15,
   "metadata": {},
   "outputs": [],
   "source": [
    "def create_user_id_matrix(row, user_id):\n",
    "    return user_id.index(row[\"user_id\"])\n",
    "\n",
    "def create_business_id_matrix(row, business_id):\n",
    "    return business_id.index(row[\"business_id\"])"
   ]
  },
  {
   "cell_type": "code",
   "execution_count": 16,
   "metadata": {},
   "outputs": [],
   "source": [
    "active_user_df[\"user_id_matrix\"] = active_user_df.apply(lambda x: create_user_id_matrix(x, user_id), axis = 1)\n",
    "active_user_df[\"business_id_matrix\"] = active_user_df.apply(lambda x: create_business_id_matrix(x, business_id), axis = 1)"
   ]
  },
  {
   "cell_type": "code",
   "execution_count": 17,
   "metadata": {},
   "outputs": [
    {
     "data": {
      "text/html": [
       "<div>\n",
       "<style scoped>\n",
       "    .dataframe tbody tr th:only-of-type {\n",
       "        vertical-align: middle;\n",
       "    }\n",
       "\n",
       "    .dataframe tbody tr th {\n",
       "        vertical-align: top;\n",
       "    }\n",
       "\n",
       "    .dataframe thead th {\n",
       "        text-align: right;\n",
       "    }\n",
       "</style>\n",
       "<table border=\"1\" class=\"dataframe\">\n",
       "  <thead>\n",
       "    <tr style=\"text-align: right;\">\n",
       "      <th></th>\n",
       "      <th>business_id</th>\n",
       "      <th>user_id</th>\n",
       "      <th>stars</th>\n",
       "      <th>user_id_matrix</th>\n",
       "      <th>business_id_matrix</th>\n",
       "    </tr>\n",
       "  </thead>\n",
       "  <tbody>\n",
       "    <tr>\n",
       "      <th>42</th>\n",
       "      <td>tstimHoMcYbkSC4eBA1wEg</td>\n",
       "      <td>HVaF7fObemxXN9vaC-XKYw</td>\n",
       "      <td>4</td>\n",
       "      <td>2243</td>\n",
       "      <td>80</td>\n",
       "    </tr>\n",
       "    <tr>\n",
       "      <th>48</th>\n",
       "      <td>tstimHoMcYbkSC4eBA1wEg</td>\n",
       "      <td>YIMeEHUYm69m-Mqf-NjPHw</td>\n",
       "      <td>5</td>\n",
       "      <td>2920</td>\n",
       "      <td>80</td>\n",
       "    </tr>\n",
       "    <tr>\n",
       "      <th>50</th>\n",
       "      <td>tstimHoMcYbkSC4eBA1wEg</td>\n",
       "      <td>xBMH3N0Fbua5pDtG1Y1mYQ</td>\n",
       "      <td>4</td>\n",
       "      <td>171</td>\n",
       "      <td>80</td>\n",
       "    </tr>\n",
       "    <tr>\n",
       "      <th>51</th>\n",
       "      <td>tstimHoMcYbkSC4eBA1wEg</td>\n",
       "      <td>W5iGpA5vgaWRyt4nY4cYBQ</td>\n",
       "      <td>3</td>\n",
       "      <td>1276</td>\n",
       "      <td>80</td>\n",
       "    </tr>\n",
       "    <tr>\n",
       "      <th>55</th>\n",
       "      <td>tstimHoMcYbkSC4eBA1wEg</td>\n",
       "      <td>djb61X-vkg5PF16qM_wI5Q</td>\n",
       "      <td>3</td>\n",
       "      <td>1175</td>\n",
       "      <td>80</td>\n",
       "    </tr>\n",
       "    <tr>\n",
       "      <th>...</th>\n",
       "      <td>...</td>\n",
       "      <td>...</td>\n",
       "      <td>...</td>\n",
       "      <td>...</td>\n",
       "      <td>...</td>\n",
       "    </tr>\n",
       "    <tr>\n",
       "      <th>285574</th>\n",
       "      <td>vIAEWbTJc657yN8I4z7whQ</td>\n",
       "      <td>EA-UgJmd-hQ8RBn1odmDJg</td>\n",
       "      <td>1</td>\n",
       "      <td>261</td>\n",
       "      <td>4176</td>\n",
       "    </tr>\n",
       "    <tr>\n",
       "      <th>285575</th>\n",
       "      <td>vIAEWbTJc657yN8I4z7whQ</td>\n",
       "      <td>93N6wLupUiu4k0bMjNBHqA</td>\n",
       "      <td>5</td>\n",
       "      <td>2815</td>\n",
       "      <td>4176</td>\n",
       "    </tr>\n",
       "    <tr>\n",
       "      <th>285576</th>\n",
       "      <td>vIAEWbTJc657yN8I4z7whQ</td>\n",
       "      <td>ZvneWq5RacQdzAdci1LkHQ</td>\n",
       "      <td>1</td>\n",
       "      <td>145</td>\n",
       "      <td>4176</td>\n",
       "    </tr>\n",
       "    <tr>\n",
       "      <th>285579</th>\n",
       "      <td>vIAEWbTJc657yN8I4z7whQ</td>\n",
       "      <td>EA-UgJmd-hQ8RBn1odmDJg</td>\n",
       "      <td>1</td>\n",
       "      <td>261</td>\n",
       "      <td>4176</td>\n",
       "    </tr>\n",
       "    <tr>\n",
       "      <th>285582</th>\n",
       "      <td>vIAEWbTJc657yN8I4z7whQ</td>\n",
       "      <td>EA-UgJmd-hQ8RBn1odmDJg</td>\n",
       "      <td>3</td>\n",
       "      <td>261</td>\n",
       "      <td>4176</td>\n",
       "    </tr>\n",
       "  </tbody>\n",
       "</table>\n",
       "<p>66153 rows × 5 columns</p>\n",
       "</div>"
      ],
      "text/plain": [
       "                   business_id                 user_id  stars  user_id_matrix  \\\n",
       "42      tstimHoMcYbkSC4eBA1wEg  HVaF7fObemxXN9vaC-XKYw      4            2243   \n",
       "48      tstimHoMcYbkSC4eBA1wEg  YIMeEHUYm69m-Mqf-NjPHw      5            2920   \n",
       "50      tstimHoMcYbkSC4eBA1wEg  xBMH3N0Fbua5pDtG1Y1mYQ      4             171   \n",
       "51      tstimHoMcYbkSC4eBA1wEg  W5iGpA5vgaWRyt4nY4cYBQ      3            1276   \n",
       "55      tstimHoMcYbkSC4eBA1wEg  djb61X-vkg5PF16qM_wI5Q      3            1175   \n",
       "...                        ...                     ...    ...             ...   \n",
       "285574  vIAEWbTJc657yN8I4z7whQ  EA-UgJmd-hQ8RBn1odmDJg      1             261   \n",
       "285575  vIAEWbTJc657yN8I4z7whQ  93N6wLupUiu4k0bMjNBHqA      5            2815   \n",
       "285576  vIAEWbTJc657yN8I4z7whQ  ZvneWq5RacQdzAdci1LkHQ      1             145   \n",
       "285579  vIAEWbTJc657yN8I4z7whQ  EA-UgJmd-hQ8RBn1odmDJg      1             261   \n",
       "285582  vIAEWbTJc657yN8I4z7whQ  EA-UgJmd-hQ8RBn1odmDJg      3             261   \n",
       "\n",
       "        business_id_matrix  \n",
       "42                      80  \n",
       "48                      80  \n",
       "50                      80  \n",
       "51                      80  \n",
       "55                      80  \n",
       "...                    ...  \n",
       "285574                4176  \n",
       "285575                4176  \n",
       "285576                4176  \n",
       "285579                4176  \n",
       "285582                4176  \n",
       "\n",
       "[66153 rows x 5 columns]"
      ]
     },
     "execution_count": 17,
     "metadata": {},
     "output_type": "execute_result"
    }
   ],
   "source": [
    "active_user_df"
   ]
  },
  {
   "cell_type": "markdown",
   "metadata": {},
   "source": [
    "## 1.2 Create sparse matrix from records"
   ]
  },
  {
   "cell_type": "code",
   "execution_count": 18,
   "metadata": {},
   "outputs": [],
   "source": [
    "highest_user_id = len(active_user_df['user_id'].unique())\n",
    "highest_business_id = len(active_user_df['business_id'].unique())\n",
    "shape_matrix = (highest_user_id, highest_business_id)\n",
    "ratings_mat = sparse.lil_matrix(shape_matrix)"
   ]
  },
  {
   "cell_type": "code",
   "execution_count": 19,
   "metadata": {},
   "outputs": [],
   "source": [
    "for i, row in active_user_df.iterrows():\n",
    "    ratings_mat[row[\"user_id_matrix\"], row[\"business_id_matrix\"]] = row[\"stars\"]"
   ]
  },
  {
   "cell_type": "code",
   "execution_count": 20,
   "metadata": {},
   "outputs": [
    {
     "data": {
      "text/plain": [
       "<3369x10395 sparse matrix of type '<class 'numpy.float64'>'\n",
       "\twith 63975 stored elements in List of Lists format>"
      ]
     },
     "execution_count": 20,
     "metadata": {},
     "output_type": "execute_result"
    }
   ],
   "source": [
    "ratings_mat"
   ]
  },
  {
   "cell_type": "markdown",
   "metadata": {},
   "source": [
    "# 2. Matrix Factorization"
   ]
  },
  {
   "cell_type": "markdown",
   "metadata": {},
   "source": [
    "## 2.1 NMF"
   ]
  },
  {
   "cell_type": "code",
   "execution_count": 21,
   "metadata": {},
   "outputs": [],
   "source": [
    "from sklearn.decomposition import NMF\n",
    "class NMF_Recommender(object):\n",
    "\n",
    "    def __init__(self, n_components):\n",
    "        self.n_components = n_components\n",
    "\n",
    "    def fit(self, ratings_mat):\n",
    "        self.ratings_mat = ratings_mat\n",
    "        self.n_users = ratings_mat.shape[0]\n",
    "        self.n_items = ratings_mat.shape[1]\n",
    "        \n",
    "        nmf = NMF(n_components = 200)\n",
    "        nmf.fit(ratings_mat)\n",
    "        \n",
    "        #Features\n",
    "        self.W = nmf.transform(ratings_mat)\n",
    "        \n",
    "        #Features Weight\n",
    "        self.H = nmf.components_\n",
    "        \n",
    "        #Reconstructed matrix\n",
    "        self.ratings_mat_fitted = self.W.dot(self.H)\n",
    "        #self.error = nmf.reconstruction_err_\n",
    "        \n",
    "    def get_matrix_pred(self):\n",
    "        return self.ratings_mat_fitted\n",
    "    \n",
    "    def get_matrix_rated(self):\n",
    "        return self.rating_mat"
   ]
  },
  {
   "cell_type": "code",
   "execution_count": 22,
   "metadata": {},
   "outputs": [],
   "source": [
    "nmf_rec = NMF_Recommender(n_components = 200)"
   ]
  },
  {
   "cell_type": "code",
   "execution_count": 23,
   "metadata": {},
   "outputs": [],
   "source": [
    "nmf_rec.fit(ratings_mat)"
   ]
  },
  {
   "cell_type": "code",
   "execution_count": 24,
   "metadata": {},
   "outputs": [],
   "source": [
    "pred_mat = nmf_rec.get_matrix_pred()"
   ]
  },
  {
   "cell_type": "code",
   "execution_count": 25,
   "metadata": {},
   "outputs": [
    {
     "data": {
      "text/plain": [
       "(3369, 10395)"
      ]
     },
     "execution_count": 25,
     "metadata": {},
     "output_type": "execute_result"
    }
   ],
   "source": [
    "pred_mat.shape"
   ]
  },
  {
   "cell_type": "markdown",
   "metadata": {},
   "source": [
    "**Dump matrix into a file**"
   ]
  },
  {
   "cell_type": "code",
   "execution_count": 77,
   "metadata": {},
   "outputs": [],
   "source": [
    "with open('./rec_vegas_matrix','wb') as f: pickle.dump(pred_mat, f)\n",
    "with open('ori_vegas_matrix')"
   ]
  },
  {
   "cell_type": "markdown",
   "metadata": {},
   "source": [
    "## 2.2 SVD Truncated"
   ]
  },
  {
   "cell_type": "code",
   "execution_count": null,
   "metadata": {},
   "outputs": [],
   "source": [
    "from sklearn.decomposition import TruncatedSVD\n",
    "class SVD_Recommender(object):\n",
    "\n",
    "    def __init__(self, n_components):\n",
    "        self.n_components = n_components\n",
    "\n",
    "    def fit(self, ratings_mat):\n",
    "        self.ratings_mat = ratings_mat\n",
    "        self.n_users = ratings_mat.shape[0]\n",
    "        self.n_items = ratings_mat.shape[1]\n",
    "        \n",
    "        #the size of the single value is n_components\n",
    "        svd = TruncatedSVD(n_components=self.n_components, n_iter=7, random_state=1)\n",
    "        svd.fit(ratings_mat)\n",
    "        self.V = svd.components_\n",
    "        self.U = svd.transform(ratings_mat)\n",
    "        self.ratings_mat_fitted = self.U.dot(self.V)\n",
    "        \n",
    "    def get_matrix_pred(self):\n",
    "        return self.ratings_mat_fitted\n",
    "    \n",
    "    def get_matrix_rated(self):\n",
    "        return self.rating_mat"
   ]
  }
 ],
 "metadata": {
  "kernelspec": {
   "display_name": "Python 3",
   "language": "python",
   "name": "python3"
  },
  "language_info": {
   "codemirror_mode": {
    "name": "ipython",
    "version": 3
   },
   "file_extension": ".py",
   "mimetype": "text/x-python",
   "name": "python",
   "nbconvert_exporter": "python",
   "pygments_lexer": "ipython3",
   "version": "3.7.6"
  }
 },
 "nbformat": 4,
 "nbformat_minor": 4
}
